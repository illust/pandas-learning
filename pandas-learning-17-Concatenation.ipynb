{
 "cells": [
  {
   "cell_type": "markdown",
   "metadata": {},
   "source": [
    "# 级联\n",
    "Pandas提供各种特性用于方便地将Series,DataFrame以及Panel对象联系到一起"
   ]
  },
  {
   "cell_type": "markdown",
   "metadata": {},
   "source": [
    "### 1. 级联对象\n",
    "concat函数完成了沿轴执行级联操作的所有重要工作。下面创建不同的对象并进行连接："
   ]
  },
  {
   "cell_type": "code",
   "execution_count": 1,
   "metadata": {
    "collapsed": false
   },
   "outputs": [
    {
     "name": "stdout",
     "output_type": "stream",
     "text": [
      "   Marks_scored    Name subject_id\n",
      "1            98    Alex       sub1\n",
      "2            90     Amy       sub2\n",
      "3            87   Allen       sub4\n",
      "4            69   Alice       sub6\n",
      "5            78  Ayoung       sub5\n",
      "1            89   Billy       sub2\n",
      "2            80   Brian       sub4\n",
      "3            79    Bran       sub3\n",
      "4            97   Bryce       sub6\n",
      "5            88   Betty       sub5 \n",
      "\n",
      "     Marks_scored    Name subject_id\n",
      "x 1            98    Alex       sub1\n",
      "  2            90     Amy       sub2\n",
      "  3            87   Allen       sub4\n",
      "  4            69   Alice       sub6\n",
      "  5            78  Ayoung       sub5\n",
      "y 1            89   Billy       sub2\n",
      "  2            80   Brian       sub4\n",
      "  3            79    Bran       sub3\n",
      "  4            97   Bryce       sub6\n",
      "  5            88   Betty       sub5 \n",
      "\n",
      "   Marks_scored    Name subject_id\n",
      "0            98    Alex       sub1\n",
      "1            90     Amy       sub2\n",
      "2            87   Allen       sub4\n",
      "3            69   Alice       sub6\n",
      "4            78  Ayoung       sub5\n",
      "5            89   Billy       sub2\n",
      "6            80   Brian       sub4\n",
      "7            79    Bran       sub3\n",
      "8            97   Bryce       sub6\n",
      "9            88   Betty       sub5\n"
     ]
    }
   ],
   "source": [
    "import pandas as pd\n",
    "one = pd.DataFrame({\n",
    "        'Name': ['Alex', 'Amy', 'Allen', 'Alice', 'Ayoung'],\n",
    "         'subject_id':['sub1','sub2','sub4','sub6','sub5'],\n",
    "         'Marks_scored':[98,90,87,69,78]},\n",
    "         index=[1,2,3,4,5])\n",
    "two = pd.DataFrame({\n",
    "         'Name': ['Billy', 'Brian', 'Bran', 'Bryce', 'Betty'],\n",
    "         'subject_id':['sub2','sub4','sub3','sub6','sub5'],\n",
    "         'Marks_scored':[89,80,79,97,88]},\n",
    "         index=[1,2,3,4,5])\n",
    "print pd.concat([one,two]),'\\n'\n",
    "\n",
    "# 假设我们想把特定的键与每个碎片的DataFrame关联起来，可以增加keys参数\n",
    "print pd.concat([one,two],keys=['x','y']),'\\n'\n",
    "\n",
    "# 如果生成的对象必须遵循自己的索引，请将ignore_index设置为True\n",
    "print pd.concat([one,two],keys=['x','y'],ignore_index=True)"
   ]
  },
  {
   "cell_type": "markdown",
   "metadata": {},
   "source": [
    "#### 使用append进行级联\n",
    "concat的一个有用的快捷方式是在Series和DataFrame上追加实例方法。这些方法实际上早于concat。它们沿axis=0连接，即索引。"
   ]
  },
  {
   "cell_type": "code",
   "execution_count": 2,
   "metadata": {
    "collapsed": false
   },
   "outputs": [
    {
     "name": "stdout",
     "output_type": "stream",
     "text": [
      "   Marks_scored    Name subject_id\n",
      "1            98    Alex       sub1\n",
      "2            90     Amy       sub2\n",
      "3            87   Allen       sub4\n",
      "4            69   Alice       sub6\n",
      "5            78  Ayoung       sub5\n",
      "1            89   Billy       sub2\n",
      "2            80   Brian       sub4\n",
      "3            79    Bran       sub3\n",
      "4            97   Bryce       sub6\n",
      "5            88   Betty       sub5 \n",
      "\n",
      "   Marks_scored    Name subject_id\n",
      "1            98    Alex       sub1\n",
      "2            90     Amy       sub2\n",
      "3            87   Allen       sub4\n",
      "4            69   Alice       sub6\n",
      "5            78  Ayoung       sub5\n",
      "1            89   Billy       sub2\n",
      "2            80   Brian       sub4\n",
      "3            79    Bran       sub3\n",
      "4            97   Bryce       sub6\n",
      "5            88   Betty       sub5\n",
      "1            98    Alex       sub1\n",
      "2            90     Amy       sub2\n",
      "3            87   Allen       sub4\n",
      "4            69   Alice       sub6\n",
      "5            78  Ayoung       sub5\n",
      "1            89   Billy       sub2\n",
      "2            80   Brian       sub4\n",
      "3            79    Bran       sub3\n",
      "4            97   Bryce       sub6\n",
      "5            88   Betty       sub5\n"
     ]
    }
   ],
   "source": [
    "print one.append(two),'\\n'\n",
    "\n",
    "# append()也可接收多个对象进行级联\n",
    "print one.append([two,one,two])"
   ]
  },
  {
   "cell_type": "markdown",
   "metadata": {},
   "source": [
    "### 2. 时间序列\n",
    "Pandas为时间序列数据的工作时间提供了一个强大的工具，尤其是在金融领域。在处理时间序列数据时，我们经常遇到以下情况：\n",
    "- 生成时间序列\n",
    "- 将时间序列转换为不同的频率\n",
    "\n",
    "Pandas提供了一个相对紧凑和自包含的工具来执行上述任务。"
   ]
  },
  {
   "cell_type": "markdown",
   "metadata": {},
   "source": [
    "#### datetime.now()用于获取当前时间"
   ]
  },
  {
   "cell_type": "code",
   "execution_count": 3,
   "metadata": {
    "collapsed": false
   },
   "outputs": [
    {
     "name": "stdout",
     "output_type": "stream",
     "text": [
      "2018-01-08 17:44:40.201000\n"
     ]
    }
   ],
   "source": [
    "print pd.datetime.now()"
   ]
  },
  {
   "cell_type": "markdown",
   "metadata": {},
   "source": [
    "#### 创建一个时间戳\n",
    "带时间戳的数据是时间序列数据的最基本类型，它将数值与时间点相关联。"
   ]
  },
  {
   "cell_type": "code",
   "execution_count": 4,
   "metadata": {
    "collapsed": false
   },
   "outputs": [
    {
     "name": "stdout",
     "output_type": "stream",
     "text": [
      "2018-01-08 00:00:00\n",
      "2020-04-24 00:14:15\n"
     ]
    }
   ],
   "source": [
    "print pd.Timestamp('2018-01-08')\n",
    "\n",
    "# 也可以用来转换整数或者浮点数时间\n",
    "print pd.Timestamp(1587687255,unit='s')"
   ]
  },
  {
   "cell_type": "markdown",
   "metadata": {},
   "source": [
    "#### 转换到时间戳\n",
    "使用to_datetime函数，可以将Series或者类似的字符串或者混合类型转换到时间戳"
   ]
  },
  {
   "cell_type": "code",
   "execution_count": 5,
   "metadata": {
    "collapsed": false
   },
   "outputs": [
    {
     "name": "stdout",
     "output_type": "stream",
     "text": [
      "0   2009-07-31\n",
      "1   2010-01-10\n",
      "2          NaT\n",
      "dtype: datetime64[ns]\n"
     ]
    }
   ],
   "source": [
    "print pd.to_datetime(pd.Series(['Jul 31, 2009','2010-01-10', None])) # NaT : Not a Time"
   ]
  },
  {
   "cell_type": "markdown",
   "metadata": {},
   "source": [
    "#### 创建一个时间范围"
   ]
  },
  {
   "cell_type": "code",
   "execution_count": 8,
   "metadata": {
    "collapsed": false
   },
   "outputs": [
    {
     "name": "stdout",
     "output_type": "stream",
     "text": [
      "[datetime.time(11, 0) datetime.time(11, 30) datetime.time(12, 0)\n",
      " datetime.time(12, 30) datetime.time(13, 0) datetime.time(13, 30)] \n",
      "\n",
      "DatetimeIndex(['2018-01-08', '2018-01-09', '2018-01-10', '2018-01-11',\n",
      "               '2018-01-12'],\n",
      "              dtype='datetime64[ns]', freq='D')\n"
     ]
    }
   ],
   "source": [
    "print pd.date_range(\"11:00\",\"13:30\",freq=\"30min\").time,'\\n'\n",
    "print pd.date_range('1/8/2018',periods=5)"
   ]
  },
  {
   "cell_type": "markdown",
   "metadata": {},
   "source": [
    "#### 改变时间频率"
   ]
  },
  {
   "cell_type": "code",
   "execution_count": 9,
   "metadata": {
    "collapsed": false
   },
   "outputs": [
    {
     "name": "stdout",
     "output_type": "stream",
     "text": [
      "[datetime.time(11, 0) datetime.time(12, 0) datetime.time(13, 0)] \n",
      "\n",
      "DatetimeIndex(['2018-01-31', '2018-02-28', '2018-03-31', '2018-04-30',\n",
      "               '2018-05-31'],\n",
      "              dtype='datetime64[ns]', freq='M')\n"
     ]
    }
   ],
   "source": [
    "print pd.date_range(\"11:00\",\"13:30\",freq=\"H\").time,'\\n'\n",
    "print pd.date_range('1/8/2018',periods=5,freq='M')"
   ]
  },
  {
   "cell_type": "markdown",
   "metadata": {},
   "source": [
    "### 3. Timedelta（时间差）\n",
    "我们可以使用各种参数创建Timedelta对象，如下所示："
   ]
  },
  {
   "cell_type": "markdown",
   "metadata": {},
   "source": [
    "#### 字符串"
   ]
  },
  {
   "cell_type": "code",
   "execution_count": 10,
   "metadata": {
    "collapsed": false
   },
   "outputs": [
    {
     "name": "stdout",
     "output_type": "stream",
     "text": [
      "2 days 02:15:30\n"
     ]
    }
   ],
   "source": [
    "print pd.Timedelta('2 days 2 hours 15 minutes 30 seconds')"
   ]
  },
  {
   "cell_type": "markdown",
   "metadata": {},
   "source": [
    "#### 整数"
   ]
  },
  {
   "cell_type": "code",
   "execution_count": 13,
   "metadata": {
    "collapsed": false
   },
   "outputs": [
    {
     "name": "stdout",
     "output_type": "stream",
     "text": [
      "0 days 06:00:00\n"
     ]
    }
   ],
   "source": [
    "print pd.Timedelta(6,unit='h')"
   ]
  },
  {
   "cell_type": "markdown",
   "metadata": {},
   "source": [
    "#### 数据偏移\n",
    "诸如周，天，小时，分钟，秒，毫秒，微秒，纳秒的数据偏移也可用于构建Timedelta。"
   ]
  },
  {
   "cell_type": "code",
   "execution_count": 14,
   "metadata": {
    "collapsed": false
   },
   "outputs": [
    {
     "name": "stdout",
     "output_type": "stream",
     "text": [
      "2 days 00:00:00\n"
     ]
    }
   ],
   "source": [
    "print pd.Timedelta(days=2)"
   ]
  },
  {
   "cell_type": "markdown",
   "metadata": {},
   "source": [
    "#### to_timedelta()\n",
    "使用pd.to_timedelta，可以将标量，数组，列表或系列从已识别的timedelta格式/值转换为Timedelta类型。如果输入是一个Series，它将构造Series，如果输入是标量样式，则构造一个标量，否则将输出一个TimedeltaIndex。"
   ]
  },
  {
   "cell_type": "code",
   "execution_count": 19,
   "metadata": {
    "collapsed": false
   },
   "outputs": [
    {
     "name": "stdout",
     "output_type": "stream",
     "text": [
      "0   00:00:00.000000\n",
      "1   00:00:00.000201\n",
      "2   00:00:00.000002\n",
      "dtype: timedelta64[ns]\n"
     ]
    }
   ],
   "source": [
    "print pd.to_timedelta(pd.Series([1,201721,2018]))"
   ]
  },
  {
   "cell_type": "markdown",
   "metadata": {},
   "source": [
    "#### 对Series/DataFrame的运算操作"
   ]
  },
  {
   "cell_type": "code",
   "execution_count": 20,
   "metadata": {
    "collapsed": false
   },
   "outputs": [
    {
     "name": "stdout",
     "output_type": "stream",
     "text": [
      "           A      B\n",
      "0 2012-01-01 0 days\n",
      "1 2012-01-02 1 days\n",
      "2 2012-01-03 2 days \n",
      "\n",
      "           A      B          C\n",
      "0 2012-01-01 0 days 2012-01-01\n",
      "1 2012-01-02 1 days 2012-01-03\n",
      "2 2012-01-03 2 days 2012-01-05\n"
     ]
    }
   ],
   "source": [
    "s = pd.Series(pd.date_range('2012-1-1',periods=3,freq='D'))\n",
    "td = pd.Series([pd.Timedelta(days=i) for i in range(3)])\n",
    "df = pd.DataFrame(dict(A=s,B=td))\n",
    "print df,'\\n'\n",
    "df['C'] = df['A']+df['B']\n",
    "print df"
   ]
  },
  {
   "cell_type": "code",
   "execution_count": null,
   "metadata": {
    "collapsed": true
   },
   "outputs": [],
   "source": []
  }
 ],
 "metadata": {
  "kernelspec": {
   "display_name": "Python 2",
   "language": "python",
   "name": "python2"
  },
  "language_info": {
   "codemirror_mode": {
    "name": "ipython",
    "version": 2
   },
   "file_extension": ".py",
   "mimetype": "text/x-python",
   "name": "python",
   "nbconvert_exporter": "python",
   "pygments_lexer": "ipython2",
   "version": "2.7.13"
  }
 },
 "nbformat": 4,
 "nbformat_minor": 0
}
