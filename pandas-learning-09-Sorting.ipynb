{
 "cells": [
  {
   "cell_type": "markdown",
   "metadata": {},
   "source": [
    "# 排序"
   ]
  },
  {
   "cell_type": "markdown",
   "metadata": {},
   "source": [
    "### 在pandas中，有两种排序方法：\n",
    "- 按标签\n",
    "- 按实际值"
   ]
  },
  {
   "cell_type": "code",
   "execution_count": 2,
   "metadata": {
    "collapsed": false
   },
   "outputs": [
    {
     "name": "stdout",
     "output_type": "stream",
     "text": [
      "       col2      col1\n",
      "1 -2.050242 -0.378747\n",
      "4  0.099263  0.925161\n",
      "6  0.654665  2.160705\n",
      "2 -1.795507 -0.997515\n",
      "3 -0.484881 -1.104748\n",
      "5  2.301357 -0.237438\n",
      "9  0.785799  1.669917\n",
      "8 -0.430964  0.371320\n",
      "0 -0.340437 -0.061817\n",
      "7  0.552144 -0.315732\n"
     ]
    }
   ],
   "source": [
    "import pandas as pd\n",
    "import numpy as np\n",
    "\n",
    "unsorted_df = pd.DataFrame(np.random.randn(10,2),index=[1,4,6,2,3,5,9,8,0,7],\n",
    "                           columns=['col2','col1'])\n",
    "print unsorted_df # 可以看出在unsorted_df中，标签以及元素值都是无序的"
   ]
  },
  {
   "cell_type": "markdown",
   "metadata": {},
   "source": [
    "### 1. 按标签"
   ]
  },
  {
   "cell_type": "markdown",
   "metadata": {},
   "source": [
    "使用sort_index()方法，通过传递轴参数和排序顺序，可以对DataFrame进行排序"
   ]
  },
  {
   "cell_type": "code",
   "execution_count": 11,
   "metadata": {
    "collapsed": false
   },
   "outputs": [
    {
     "name": "stdout",
     "output_type": "stream",
     "text": [
      "       colb      cola\n",
      "1 -2.733014 -0.366836\n",
      "4 -0.810861 -0.849012\n",
      "2 -2.248539 -1.059743\n",
      "3  0.039763 -0.194996\n",
      "0 -0.963985 -0.832716 \n",
      "\n",
      "       colb      cola\n",
      "0 -0.963985 -0.832716\n",
      "1 -2.733014 -0.366836\n",
      "2 -2.248539 -1.059743\n",
      "3  0.039763 -0.194996\n",
      "4 -0.810861 -0.849012 \n",
      "\n",
      "       colb      cola\n",
      "4 -0.810861 -0.849012\n",
      "3  0.039763 -0.194996\n",
      "2 -2.248539 -1.059743\n",
      "1 -2.733014 -0.366836\n",
      "0 -0.963985 -0.832716 \n",
      "\n",
      "       cola      colb\n",
      "1 -0.366836 -2.733014\n",
      "4 -0.849012 -0.810861\n",
      "2 -1.059743 -2.248539\n",
      "3 -0.194996  0.039763\n",
      "0 -0.832716 -0.963985\n"
     ]
    }
   ],
   "source": [
    "import pandas as pd\n",
    "import numpy as np\n",
    "\n",
    "unsorted_df = pd.DataFrame(np.random.randn(5,2),index=[1,4,2,3,0],\n",
    "                          columns=['colb','cola'])\n",
    "print unsorted_df,'\\n'\n",
    "sorted_df = unsorted_df.sort_index()\n",
    "print sorted_df,'\\n'\n",
    "\n",
    "# 默认情况下，索引是按升序排列的，通过设置ascending参数可以实现逆序排列\n",
    "resorted_df = unsorted_df.sort_index(ascending=False) \n",
    "print resorted_df,'\\n'\n",
    "\n",
    "# 对列名排序\n",
    "sortedcol_df = unsorted_df.sort_index(axis=1)\n",
    "print sortedcol_df"
   ]
  },
  {
   "cell_type": "markdown",
   "metadata": {},
   "source": [
    "### 2. 按值"
   ]
  },
  {
   "cell_type": "markdown",
   "metadata": {},
   "source": [
    "与索引排序一样，sort_values()是按值进行排序的方法。它接受一个'by'参数，该参数将使用DataFrame的列名来进行排序"
   ]
  },
  {
   "cell_type": "code",
   "execution_count": 17,
   "metadata": {
    "collapsed": false
   },
   "outputs": [
    {
     "name": "stdout",
     "output_type": "stream",
     "text": [
      "   col1  col2\n",
      "0     2     1\n",
      "1     1     3\n",
      "2     1     2\n",
      "3     1     4 \n",
      "\n",
      "   col1  col2\n",
      "1     1     3\n",
      "2     1     2\n",
      "3     1     4\n",
      "0     2     1 \n",
      "\n",
      "   col1  col2\n",
      "1     1     3\n",
      "2     1     2\n",
      "3     1     4\n",
      "0     2     1\n"
     ]
    }
   ],
   "source": [
    "import pandas as pd\n",
    "import numpy as np\n",
    "\n",
    "unsorted_df = pd.DataFrame({'col1':[2,1,1,1],'col2':[1,3,2,4]})\n",
    "sorted_df = unsorted_df.sort_values(by='col1')\n",
    "\n",
    "print unsorted_df,'\\n'\n",
    "print sorted_df,'\\n'\n",
    "\n",
    "# sort_values()提供多种排序算法以供选择：mergesort,heapsort,quicksort\n",
    "# mergesort是唯一的稳定算法\n",
    "sorted_df_ms = unsorted_df.sort_values(by='col1',kind='mergesort')\n",
    "print sorted_df_ms"
   ]
  },
  {
   "cell_type": "code",
   "execution_count": null,
   "metadata": {
    "collapsed": true
   },
   "outputs": [],
   "source": []
  }
 ],
 "metadata": {
  "kernelspec": {
   "display_name": "Python 2",
   "language": "python",
   "name": "python2"
  },
  "language_info": {
   "codemirror_mode": {
    "name": "ipython",
    "version": 2
   },
   "file_extension": ".py",
   "mimetype": "text/x-python",
   "name": "python",
   "nbconvert_exporter": "python",
   "pygments_lexer": "ipython2",
   "version": "2.7.13"
  }
 },
 "nbformat": 4,
 "nbformat_minor": 0
}
