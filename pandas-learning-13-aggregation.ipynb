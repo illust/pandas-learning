{
 "cells": [
  {
   "cell_type": "markdown",
   "metadata": {},
   "source": [
    "# Aggregations"
   ]
  },
  {
   "cell_type": "markdown",
   "metadata": {},
   "source": [
    "### 1. Applying aggregations on DataFrame"
   ]
  },
  {
   "cell_type": "code",
   "execution_count": 4,
   "metadata": {
    "collapsed": false
   },
   "outputs": [
    {
     "name": "stdout",
     "output_type": "stream",
     "text": [
      "             A   B   C   D\n",
      "2000-01-01   1   2   3   4\n",
      "2000-01-02   5   6   7   8\n",
      "2000-01-03   9  10  11  12\n",
      "2000-01-04  13  14  15  16\n",
      "2000-01-05  17  18  19  20\n",
      "2000-01-06  21  22  23  24\n",
      "2000-01-07  25  26  27  28\n",
      "2000-01-08  29  30  31  32\n",
      "2000-01-09  33  34  35  36\n",
      "2000-01-10  37  38  39  40\n",
      "Rolling [window=3,min_periods=1,center=False,axis=0]\n"
     ]
    }
   ],
   "source": [
    "import pandas as pd\n",
    "import numpy as np\n",
    "\n",
    "df = pd.DataFrame(np.arange(1,41).reshape(10,4),\n",
    "        index=pd.date_range('1/1/2000',periods=10),\n",
    "        columns=['A','B','C','D'])\n",
    "\n",
    "print df\n",
    "\n",
    "r = df.rolling(window=3,min_periods=1)\n",
    "print r"
   ]
  },
  {
   "cell_type": "markdown",
   "metadata": {},
   "source": [
    "#### 应用aggregation到整个DataFrame中"
   ]
  },
  {
   "cell_type": "code",
   "execution_count": 10,
   "metadata": {
    "collapsed": false
   },
   "outputs": [
    {
     "name": "stdout",
     "output_type": "stream",
     "text": [
      "             A   B   C   D\n",
      "2000-01-01   1   2   3   4\n",
      "2000-01-02   5   6   7   8\n",
      "2000-01-03   9  10  11  12\n",
      "2000-01-04  13  14  15  16\n",
      "2000-01-05  17  18  19  20\n",
      "2000-01-06  21  22  23  24\n",
      "2000-01-07  25  26  27  28\n",
      "2000-01-08  29  30  31  32\n",
      "2000-01-09  33  34  35  36\n",
      "2000-01-10  37  38  39  40\n",
      "               A            B      \n",
      "             sum  mean    sum  mean\n",
      "2000-01-01   1.0   1.0    2.0   2.0\n",
      "2000-01-02   6.0   3.0    8.0   4.0\n",
      "2000-01-03  15.0   5.0   18.0   6.0\n",
      "2000-01-04  27.0   9.0   30.0  10.0\n",
      "2000-01-05  39.0  13.0   42.0  14.0\n",
      "2000-01-06  51.0  17.0   54.0  18.0\n",
      "2000-01-07  63.0  21.0   66.0  22.0\n",
      "2000-01-08  75.0  25.0   78.0  26.0\n",
      "2000-01-09  87.0  29.0   90.0  30.0\n",
      "2000-01-10  99.0  33.0  102.0  34.0 \n",
      "\n",
      "               A     B\n",
      "2000-01-01   1.0   2.0\n",
      "2000-01-02   6.0   4.0\n",
      "2000-01-03  15.0   6.0\n",
      "2000-01-04  27.0  10.0\n",
      "2000-01-05  39.0  14.0\n",
      "2000-01-06  51.0  18.0\n",
      "2000-01-07  63.0  22.0\n",
      "2000-01-08  75.0  26.0\n",
      "2000-01-09  87.0  30.0\n",
      "2000-01-10  99.0  34.0\n"
     ]
    }
   ],
   "source": [
    "import pandas as pd\n",
    "import numpy as np\n",
    "\n",
    "df = pd.DataFrame(np.arange(1,41).reshape(10,4),\n",
    "index=pd.date_range('1/1/2000',periods=10),\n",
    "columns=list('ABCD'))\n",
    "print df\n",
    "\n",
    "r = df.rolling(window=3,min_periods=1)\n",
    "# 应用多个函数到DataFrame的多个列中\n",
    "print r[['A','B']].aggregate([np.sum,np.mean]),'\\n'\n",
    "# 应用不同的函数到DataFrame的不同列中\n",
    "print r.aggregate({'A':np.sum,'B':np.mean})"
   ]
  },
  {
   "cell_type": "code",
   "execution_count": null,
   "metadata": {
    "collapsed": true
   },
   "outputs": [],
   "source": []
  }
 ],
 "metadata": {
  "kernelspec": {
   "display_name": "Python 2",
   "language": "python",
   "name": "python2"
  },
  "language_info": {
   "codemirror_mode": {
    "name": "ipython",
    "version": 2
   },
   "file_extension": ".py",
   "mimetype": "text/x-python",
   "name": "python",
   "nbconvert_exporter": "python",
   "pygments_lexer": "ipython2",
   "version": "2.7.13"
  }
 },
 "nbformat": 4,
 "nbformat_minor": 0
}
