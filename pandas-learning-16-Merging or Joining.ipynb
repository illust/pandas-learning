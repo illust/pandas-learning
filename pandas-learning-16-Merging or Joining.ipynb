{
 "cells": [
  {
   "cell_type": "markdown",
   "metadata": {},
   "source": [
    "# 合并联结\n",
    "Pandas具有功能全面的高性能内存中连接操作，与SQL等关系数据库非常相似。\n",
    "Pandas提供了一个单一的函数merge，作为DataFrame对象之间所有标准数据库连接操作的入口点。"
   ]
  },
  {
   "cell_type": "code",
   "execution_count": 1,
   "metadata": {
    "collapsed": false
   },
   "outputs": [
    {
     "name": "stdout",
     "output_type": "stream",
     "text": [
      "     Name  id subject_id\n",
      "0    Alex   1       sub1\n",
      "1     Amy   2       sub2\n",
      "2   Allen   3       sub4\n",
      "3   Alice   4       sub6\n",
      "4  Ayoung   5       sub5 \n",
      "\n",
      "    Name  id subject_id\n",
      "0  Billy   1       sub2\n",
      "1  Brain   2       sub4\n",
      "2   Bran   3       sub3\n",
      "3  Bryce   4       sub6\n",
      "4  Betty   5       sub5\n"
     ]
    }
   ],
   "source": [
    "import pandas as pd\n",
    "left = pd.DataFrame({\n",
    "        'id':[1,2,3,4,5],\n",
    "        'Name':['Alex','Amy','Allen','Alice','Ayoung'],\n",
    "        'subject_id':['sub1','sub2','sub4','sub6','sub5']\n",
    "    })\n",
    "right = pd.DataFrame({\n",
    "        'id':[1,2,3,4,5],\n",
    "        'Name':['Billy','Brain','Bran','Bryce','Betty'],\n",
    "        'subject_id':['sub2','sub4','sub3','sub6','sub5']\n",
    "    })\n",
    "print left,'\\n'\n",
    "print right"
   ]
  },
  {
   "cell_type": "markdown",
   "metadata": {},
   "source": [
    "通过一个键合并两个DataFrames"
   ]
  },
  {
   "cell_type": "code",
   "execution_count": 2,
   "metadata": {
    "collapsed": false
   },
   "outputs": [
    {
     "name": "stdout",
     "output_type": "stream",
     "text": [
      "   Name_x  id subject_id_x Name_y subject_id_y\n",
      "0    Alex   1         sub1  Billy         sub2\n",
      "1     Amy   2         sub2  Brain         sub4\n",
      "2   Allen   3         sub4   Bran         sub3\n",
      "3   Alice   4         sub6  Bryce         sub6\n",
      "4  Ayoung   5         sub5  Betty         sub5\n"
     ]
    }
   ],
   "source": [
    "print pd.merge(left,right,on='id')"
   ]
  },
  {
   "cell_type": "markdown",
   "metadata": {},
   "source": [
    "通过多个键合并两个DataFrames"
   ]
  },
  {
   "cell_type": "code",
   "execution_count": 3,
   "metadata": {
    "collapsed": false
   },
   "outputs": [
    {
     "name": "stdout",
     "output_type": "stream",
     "text": [
      "   Name_x  id subject_id Name_y\n",
      "0   Alice   4       sub6  Bryce\n",
      "1  Ayoung   5       sub5  Betty\n"
     ]
    }
   ],
   "source": [
    "print pd.merge(left,right,on=['id','subject_id'])"
   ]
  },
  {
   "cell_type": "markdown",
   "metadata": {},
   "source": [
    "### 1. 使用'how'参数进行合并\n",
    "如何合并参数指定如何确定哪些键将被包含在结果表中。如果组合键没有出现在左侧或右侧表中，则连接表中的值将为NA。\n",
    "下面是一个how参数选项和它们对应的SQL语句：\n",
    "\n",
    "| 合并方式 | 等效SQL | 描述 |\n",
    "| :----: | :----: | :----: |\n",
    "| left | LEFT OUTER JOIN | 使用左侧对象键 | \n",
    "| right | RIGHT OUTER JOIN | 使用右侧对象键 | \n",
    "| outer | FULL OUTER JOIN | 使用联合键 | \n",
    "| inner | INNER JOIN | 使用键的交集 | "
   ]
  },
  {
   "cell_type": "markdown",
   "metadata": {},
   "source": [
    "#### 左联结"
   ]
  },
  {
   "cell_type": "code",
   "execution_count": 4,
   "metadata": {
    "collapsed": false
   },
   "outputs": [
    {
     "name": "stdout",
     "output_type": "stream",
     "text": [
      "   Name_x  id_x subject_id Name_y  id_y\n",
      "0    Alex     1       sub1    NaN   NaN\n",
      "1     Amy     2       sub2  Billy   1.0\n",
      "2   Allen     3       sub4  Brain   2.0\n",
      "3   Alice     4       sub6  Bryce   4.0\n",
      "4  Ayoung     5       sub5  Betty   5.0\n"
     ]
    }
   ],
   "source": [
    "print pd.merge(left,right,on='subject_id',how='left')"
   ]
  },
  {
   "cell_type": "markdown",
   "metadata": {},
   "source": [
    "#### 右联结"
   ]
  },
  {
   "cell_type": "code",
   "execution_count": 5,
   "metadata": {
    "collapsed": false
   },
   "outputs": [
    {
     "name": "stdout",
     "output_type": "stream",
     "text": [
      "   Name_x  id_x subject_id Name_y  id_y\n",
      "0     Amy   2.0       sub2  Billy     1\n",
      "1   Allen   3.0       sub4  Brain     2\n",
      "2   Alice   4.0       sub6  Bryce     4\n",
      "3  Ayoung   5.0       sub5  Betty     5\n",
      "4     NaN   NaN       sub3   Bran     3\n"
     ]
    }
   ],
   "source": [
    "print pd.merge(left,right,on='subject_id',how='right')"
   ]
  },
  {
   "cell_type": "markdown",
   "metadata": {},
   "source": [
    "#### 外部联结"
   ]
  },
  {
   "cell_type": "code",
   "execution_count": 8,
   "metadata": {
    "collapsed": false
   },
   "outputs": [
    {
     "name": "stdout",
     "output_type": "stream",
     "text": [
      "   Name_x  id_x subject_id Name_y  id_y\n",
      "0    Alex   1.0       sub1    NaN   NaN\n",
      "1     Amy   2.0       sub2  Billy   1.0\n",
      "2   Allen   3.0       sub4  Brain   2.0\n",
      "3   Alice   4.0       sub6  Bryce   4.0\n",
      "4  Ayoung   5.0       sub5  Betty   5.0\n",
      "5     NaN   NaN       sub3   Bran   3.0\n"
     ]
    }
   ],
   "source": [
    "print pd.merge(left,right,how='outer',on='subject_id')"
   ]
  },
  {
   "cell_type": "markdown",
   "metadata": {},
   "source": [
    "#### 内部联结"
   ]
  },
  {
   "cell_type": "code",
   "execution_count": 9,
   "metadata": {
    "collapsed": false
   },
   "outputs": [
    {
     "name": "stdout",
     "output_type": "stream",
     "text": [
      "   Name_x  id_x subject_id Name_y  id_y\n",
      "0     Amy     2       sub2  Billy     1\n",
      "1   Allen     3       sub4  Brain     2\n",
      "2   Alice     4       sub6  Bryce     4\n",
      "3  Ayoung     5       sub5  Betty     5\n"
     ]
    }
   ],
   "source": [
    "print pd.merge(left,right,on='subject_id',how='inner')"
   ]
  },
  {
   "cell_type": "code",
   "execution_count": null,
   "metadata": {
    "collapsed": true
   },
   "outputs": [],
   "source": []
  }
 ],
 "metadata": {
  "kernelspec": {
   "display_name": "Python 2",
   "language": "python",
   "name": "python2"
  },
  "language_info": {
   "codemirror_mode": {
    "name": "ipython",
    "version": 2
   },
   "file_extension": ".py",
   "mimetype": "text/x-python",
   "name": "python",
   "nbconvert_exporter": "python",
   "pygments_lexer": "ipython2",
   "version": "2.7.13"
  }
 },
 "nbformat": 4,
 "nbformat_minor": 0
}
