{
 "cells": [
  {
   "cell_type": "markdown",
   "metadata": {},
   "source": [
    "# Pandas中的分组(groupby)\n",
    "任何groupby操作都涉及原始对象的以下操作之一：\n",
    "- **分割**对象\n",
    "- **应用**函数\n",
    "- **联系**结果\n",
    "\n",
    "在许多情况下，我们将数据分成多个集合，并在每个子集上应用一些功能。在应用功能中，我们可以执行以下操作：\n",
    "- **聚合** - 计算总结统计 \n",
    "- **转换** - 执行一些特定集合的操作 \n",
    "- **过滤** - 在某些情况下丢弃数据  \n",
    "\n",
    "groupby的官方文档请点击[这里](https://pandas.pydata.org/pandas-docs/stable/groupby.html)"
   ]
  },
  {
   "cell_type": "markdown",
   "metadata": {},
   "source": [
    "### 1. 将数据拆分成组\n",
    "在Pandas中，对象可以分成任何对象。有多种方式来对一个对象进行分组（以DataFrame为例）：\n",
    "- df.groupby('key') —— 按列名为'key'的一组元素对df进行分组\n",
    "- df.groupby(['key1','key2']) —— 按列名为['key1','key2']的两组元素所有组合形式分组"
   ]
  },
  {
   "cell_type": "code",
   "execution_count": 15,
   "metadata": {
    "scrolled": false
   },
   "outputs": [
    {
     "name": "stdout",
     "output_type": "stream",
     "text": [
      "    Points  Rank    Team  Year\n",
      "0      876     1  Riders  2014\n",
      "1      789     2  Riders  2015\n",
      "2      863     2  Devils  2014\n",
      "3      673     3  Devils  2015\n",
      "4      741     3   Kings  2014\n",
      "5      812     4   Kings  2015\n",
      "6      756     1   Kings  2016\n",
      "7      788     1   Kings  2017\n",
      "8      694     2  Riders  2016\n",
      "9      701     4  Royals  2014\n",
      "10     804     1  Royals  2015\n",
      "11     690     2  Riders  2017 \n",
      "\n",
      "<pandas.core.groupby.DataFrameGroupBy object at 0x00000000138DECC0> \n",
      "\n",
      "{1: Int64Index([0, 6, 7, 10], dtype='int64'), 2: Int64Index([1, 2, 8, 11], dtype='int64'), 3: Int64Index([3, 4], dtype='int64'), 4: Int64Index([5, 9], dtype='int64')} \n",
      "\n",
      "{'Kings': Int64Index([4, 5, 6, 7], dtype='int64'), 'Riders': Int64Index([0, 1, 8, 11], dtype='int64'), 'Royals': Int64Index([9, 10], dtype='int64'), 'Devils': Int64Index([2, 3], dtype='int64')}\n"
     ]
    }
   ],
   "source": [
    "import pandas as pd\n",
    "import numpy as np\n",
    "\n",
    "ipl_data = {'Team': ['Riders', 'Riders', 'Devils', 'Devils', 'Kings',\n",
    "         'Kings', 'Kings', 'Kings', 'Riders', 'Royals', 'Royals', 'Riders'],\n",
    "         'Rank': [1, 2, 2, 3, 3,4 ,1 ,1,2 , 4,1,2],\n",
    "         'Year': [2014,2015,2014,2015,2014,2015,2016,2017,2016,2014,2015,2017],\n",
    "         'Points':[876,789,863,673,741,812,756,788,694,701,804,690]}\n",
    "\n",
    "df = pd.DataFrame(ipl_data)\n",
    "\n",
    "print df,'\\n'\n",
    "\n",
    "# df.groupby()返回的是一个DataFrameGroupBy对象\n",
    "print df.groupby('Rank'),'\\n'\n",
    "\n",
    "# 如果想看到分组结果，还需要调用groups属性\n",
    "print df.groupby('Rank').groups,'\\n'\n",
    "\n",
    "print df.groupby('Team').groups\n",
    "\n"
   ]
  },
  {
   "cell_type": "markdown",
   "metadata": {},
   "source": [
    "#### 按多列分组"
   ]
  },
  {
   "cell_type": "code",
   "execution_count": 2,
   "metadata": {},
   "outputs": [
    {
     "name": "stdout",
     "output_type": "stream",
     "text": [
      "{('Royals', 2014L): Int64Index([9], dtype='int64'), ('Kings', 2014L): Int64Index([4], dtype='int64'), ('Kings', 2015L): Int64Index([5], dtype='int64'), ('Riders', 2014L): Int64Index([0], dtype='int64'), ('Riders', 2015L): Int64Index([1], dtype='int64'), ('Kings', 2016L): Int64Index([6], dtype='int64'), ('Riders', 2016L): Int64Index([8], dtype='int64'), ('Riders', 2017L): Int64Index([11], dtype='int64'), ('Devils', 2014L): Int64Index([2], dtype='int64'), ('Kings', 2017L): Int64Index([7], dtype='int64'), ('Royals', 2015L): Int64Index([10], dtype='int64'), ('Devils', 2015L): Int64Index([3], dtype='int64')}\n"
     ]
    }
   ],
   "source": [
    "print df.groupby(['Team','Year']).groups"
   ]
  },
  {
   "cell_type": "markdown",
   "metadata": {},
   "source": [
    "### 3. 按组进行迭代\n",
    "使用groupby对象，我们可以遍历类似itertools.obj的对象。"
   ]
  },
  {
   "cell_type": "code",
   "execution_count": 3,
   "metadata": {},
   "outputs": [
    {
     "name": "stdout",
     "output_type": "stream",
     "text": [
      "2014\n",
      "   Points  Rank    Team  Year\n",
      "0     876     1  Riders  2014\n",
      "2     863     2  Devils  2014\n",
      "4     741     3   Kings  2014\n",
      "9     701     4  Royals  2014\n",
      "\n",
      "\n",
      "2015\n",
      "    Points  Rank    Team  Year\n",
      "1      789     2  Riders  2015\n",
      "3      673     3  Devils  2015\n",
      "5      812     4   Kings  2015\n",
      "10     804     1  Royals  2015\n",
      "\n",
      "\n",
      "2016\n",
      "   Points  Rank    Team  Year\n",
      "6     756     1   Kings  2016\n",
      "8     694     2  Riders  2016\n",
      "\n",
      "\n",
      "2017\n",
      "    Points  Rank    Team  Year\n",
      "7      788     1   Kings  2017\n",
      "11     690     2  Riders  2017\n",
      "\n",
      "\n"
     ]
    }
   ],
   "source": [
    "grouped = df.groupby('Year')\n",
    "\n",
    "for name,group in grouped:\n",
    "    print name\n",
    "    print group\n",
    "    print '\\n'"
   ]
  },
  {
   "cell_type": "markdown",
   "metadata": {
    "collapsed": true
   },
   "source": [
    "### 4. 选择一个组"
   ]
  },
  {
   "cell_type": "code",
   "execution_count": 4,
   "metadata": {},
   "outputs": [
    {
     "name": "stdout",
     "output_type": "stream",
     "text": [
      "{2016: Int64Index([6, 8], dtype='int64'), 2017: Int64Index([7, 11], dtype='int64'), 2014: Int64Index([0, 2, 4, 9], dtype='int64'), 2015: Int64Index([1, 3, 5, 10], dtype='int64')} \n",
      "\n",
      "   Points  Rank    Team  Year\n",
      "0     876     1  Riders  2014\n",
      "2     863     2  Devils  2014\n",
      "4     741     3   Kings  2014\n",
      "9     701     4  Royals  2014\n"
     ]
    }
   ],
   "source": [
    "grouped = df.groupby('Year')\n",
    "\n",
    "print grouped.groups,'\\n'\n",
    "print grouped.get_group(2014)"
   ]
  },
  {
   "cell_type": "markdown",
   "metadata": {},
   "source": [
    "### 5. groupby中的DataFrame列选择\n",
    "从1.3节中对groupby对象迭代的结果可以看出，对象当中每个项包含name和group两部分。Name就是选择用于分组的那一组的所有去重后的元素值，比如'Year'当中的(2014,2015,2016,2017)。而group可以看作是DataFrame的结构，仍然可以进行行或列的选择等操作。这就是官网当中介绍到的[这一节](https://pandas.pydata.org/pandas-docs/stable/groupby.html#dataframe-column-selection-in-groupby)我个人的理解。下面通过示例说明："
   ]
  },
  {
   "cell_type": "code",
   "execution_count": 23,
   "metadata": {},
   "outputs": [
    {
     "name": "stdout",
     "output_type": "stream",
     "text": [
      "2014\n",
      "   Points  Rank    Team  Year  TeamPoints\n",
      "0     876     1  Riders  2014        3049\n",
      "2     863     2  Devils  2014        1536\n",
      "4     741     3   Kings  2014        3097\n",
      "9     701     4  Royals  2014        1505 \n",
      "\n",
      "0    Riders\n",
      "2    Devils\n",
      "4     Kings\n",
      "9    Royals\n",
      "Name: Team, dtype: object \n",
      "******************************\n",
      "2015\n",
      "    Points  Rank    Team  Year  TeamPoints\n",
      "1      789     2  Riders  2015        3049\n",
      "3      673     3  Devils  2015        1536\n",
      "5      812     4   Kings  2015        3097\n",
      "10     804     1  Royals  2015        1505 \n",
      "\n",
      "1     Riders\n",
      "3     Devils\n",
      "5      Kings\n",
      "10    Royals\n",
      "Name: Team, dtype: object \n",
      "******************************\n",
      "2016\n",
      "   Points  Rank    Team  Year  TeamPoints\n",
      "6     756     1   Kings  2016        3097\n",
      "8     694     2  Riders  2016        3049 \n",
      "\n",
      "6     Kings\n",
      "8    Riders\n",
      "Name: Team, dtype: object \n",
      "******************************\n",
      "2017\n",
      "    Points  Rank    Team  Year  TeamPoints\n",
      "7      788     1   Kings  2017        3097\n",
      "11     690     2  Riders  2017        3049 \n",
      "\n",
      "7      Kings\n",
      "11    Riders\n",
      "Name: Team, dtype: object \n",
      "******************************\n"
     ]
    }
   ],
   "source": [
    "grouped = df.groupby('Year')\n",
    "\n",
    "for name,group in grouped:\n",
    "    print name\n",
    "    print group,'\\n'\n",
    "    print group['Team'],'\\n','*'*30\n",
    "    "
   ]
  },
  {
   "cell_type": "markdown",
   "metadata": {},
   "source": [
    "### 6. 聚合\n",
    "聚合函数为每个组返回单个聚合值。一旦创建了组合对象，就可以对分组数据执行多个聚合操作。\n",
    "一个显而易见的是通过聚合或等效的agg方法聚合。"
   ]
  },
  {
   "cell_type": "code",
   "execution_count": 16,
   "metadata": {},
   "outputs": [
    {
     "name": "stdout",
     "output_type": "stream",
     "text": [
      "Year\n",
      "2014    795.25\n",
      "2015    769.50\n",
      "2016    725.00\n",
      "2017    739.00\n",
      "Name: Points, dtype: float64 \n",
      "\n",
      "        Points  Rank  Year\n",
      "Team                      \n",
      "Devils       2     2     2\n",
      "Kings        4     4     4\n",
      "Riders       4     4     4\n",
      "Royals       2     2     2 \n",
      "\n",
      "         sum    mean         std\n",
      "Team                            \n",
      "Devils  1536  768.00  134.350288\n",
      "Kings   3097  774.25   31.899582\n",
      "Riders  3049  762.25   88.567771\n",
      "Royals  1505  752.50   72.831998\n"
     ]
    }
   ],
   "source": [
    "grouped = df.groupby('Year')\n",
    "# 求每组的均值\n",
    "print grouped['Points'].agg(np.mean),'\\n'\n",
    "\n",
    "grouped1 = df.groupby('Team')\n",
    "# 求每组元素个数\n",
    "print grouped1.agg(np.size),'\\n'\n",
    "\n",
    "# 通过分组系列，还可以传递函数的列表或字典来进行聚合，并生成DataFrame作为输出\n",
    "print grouped1['Points'].agg([np.sum,np.mean,np.std])\n"
   ]
  },
  {
   "cell_type": "markdown",
   "metadata": {},
   "source": [
    "### 7. 转换\n",
    "组或列上的转换返回索引大小与被分组的索引相同的对象。因此，转换应该返回与组块大小相同的结果。Pandas中的transform不是很容易，引用[其他](https://www.jianshu.com/p/509d7b97088c)优秀博客内容如下：\n",
    "> aggregation会返回数据的缩减版本，而transformation能返回完整数据的某一变换版本供我们重组。这样的transformation，输出的形状和输入一致。一个常见的例子是通过减去分组平均值来居中数据。\n",
    "\n",
    "按照引用博文思路，为表格添加一列TeamPoints，记录所有队伍累计得分情况。举例如下："
   ]
  },
  {
   "cell_type": "code",
   "execution_count": 22,
   "metadata": {
    "scrolled": false
   },
   "outputs": [
    {
     "name": "stdout",
     "output_type": "stream",
     "text": [
      "    Points  Rank    Team  Year\n",
      "0      876     1  Riders  2014\n",
      "1      789     2  Riders  2015\n",
      "2      863     2  Devils  2014\n",
      "3      673     3  Devils  2015\n",
      "4      741     3   Kings  2014\n",
      "5      812     4   Kings  2015\n",
      "6      756     1   Kings  2016\n",
      "7      788     1   Kings  2017\n",
      "8      694     2  Riders  2016\n",
      "9      701     4  Royals  2014\n",
      "10     804     1  Royals  2015\n",
      "11     690     2  Riders  2017 \n",
      "\n",
      "Team\n",
      "Devils    1536\n",
      "Kings     3097\n",
      "Riders    3049\n",
      "Royals    1505\n",
      "Name: Points, dtype: int64 \n",
      "\n",
      "    Points  Rank    Team  Year  TeamPoints\n",
      "0      876     1  Riders  2014        3049\n",
      "1      789     2  Riders  2015        3049\n",
      "2      863     2  Devils  2014        1536\n",
      "3      673     3  Devils  2015        1536\n",
      "4      741     3   Kings  2014        3097\n",
      "5      812     4   Kings  2015        3097\n",
      "6      756     1   Kings  2016        3097\n",
      "7      788     1   Kings  2017        3097\n",
      "8      694     2  Riders  2016        3049\n",
      "9      701     4  Royals  2014        1505\n",
      "10     804     1  Royals  2015        1505\n",
      "11     690     2  Riders  2017        3049\n"
     ]
    }
   ],
   "source": [
    "print df,'\\n'\n",
    "\n",
    "# 按团队'Team'计算每一队得分数'Points'之和\n",
    "print df.groupby('Team')['Points'].agg(sum),'\\n'\n",
    "\n",
    "# 添加一列'TeamPoints'\n",
    "# 利用transform，可以将每一队的累计得分与输入数据对应\n",
    "df['TeamPoints'] = df.groupby('Team')['Points'].transform(sum)\n",
    "print df"
   ]
  },
  {
   "cell_type": "code",
   "execution_count": 8,
   "metadata": {},
   "outputs": [
    {
     "name": "stdout",
     "output_type": "stream",
     "text": [
      "       Points       Rank\n",
      "0    9.235007 -11.618950\n",
      "1    2.998345  -3.872983\n",
      "2    7.748256  -3.872983\n",
      "3  -14.837962   3.872983\n",
      "4   -6.204323   3.872983\n",
      "5    6.534854  11.618950\n",
      "6    7.071068  -7.071068\n",
      "7    7.071068  -7.071068\n",
      "8   -7.071068   7.071068\n",
      "9  -10.778940  11.618950\n",
      "10   5.304763 -11.618950\n",
      "11  -7.071068   7.071068\n"
     ]
    }
   ],
   "source": [
    "score = lambda x: (x - x.mean()) / x.std()*10\n",
    "print grouped.transform(score)\n"
   ]
  },
  {
   "cell_type": "markdown",
   "metadata": {},
   "source": [
    "### 8. 过滤\n",
    "过滤根据定义的标准过滤数据并返回数据的子集。filter()函数用于过滤数据。"
   ]
  },
  {
   "cell_type": "code",
   "execution_count": 9,
   "metadata": {},
   "outputs": [
    {
     "name": "stdout",
     "output_type": "stream",
     "text": [
      "    Points  Rank    Team  Year\n",
      "0      876     1  Riders  2014\n",
      "1      789     2  Riders  2015\n",
      "4      741     3   Kings  2014\n",
      "6      756     1   Kings  2016\n",
      "7      788     1   Kings  2017\n",
      "8      694     2  Riders  2016\n",
      "11     690     2  Riders  2017\n"
     ]
    }
   ],
   "source": [
    "import pandas as pd\n",
    "import numpy as np\n",
    "ipl_data = {'Team': ['Riders', 'Riders', 'Devils', 'Devils', 'Kings',\n",
    "         'kings', 'Kings', 'Kings', 'Riders', 'Royals', 'Royals', 'Riders'],\n",
    "         'Rank': [1, 2, 2, 3, 3,4 ,1 ,1,2 , 4,1,2],\n",
    "         'Year': [2014,2015,2014,2015,2014,2015,2016,2017,2016,2014,2015,2017],\n",
    "         'Points':[876,789,863,673,741,812,756,788,694,701,804,690]}\n",
    "df = pd.DataFrame(ipl_data)\n",
    "print df.groupby('Team').filter(lambda x: len(x) >= 3)"
   ]
  },
  {
   "cell_type": "markdown",
   "metadata": {},
   "source": [
    "在上面的过滤条件中，我们需要返回那些在IPL比赛中参加三次及以上的队伍。"
   ]
  }
 ],
 "metadata": {
  "kernelspec": {
   "display_name": "Python 2",
   "language": "python",
   "name": "python2"
  },
  "language_info": {
   "codemirror_mode": {
    "name": "ipython",
    "version": 2
   },
   "file_extension": ".py",
   "mimetype": "text/x-python",
   "name": "python",
   "nbconvert_exporter": "python",
   "pygments_lexer": "ipython2",
   "version": "2.7.13"
  }
 },
 "nbformat": 4,
 "nbformat_minor": 1
}
