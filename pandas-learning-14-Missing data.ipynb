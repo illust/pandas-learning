{
 "cells": [
  {
   "cell_type": "markdown",
   "metadata": {},
   "source": [
    "# 缺失数据"
   ]
  },
  {
   "cell_type": "markdown",
   "metadata": {},
   "source": [
    "缺失数据在现实生活中是一个困扰的问题。在机器学习和数据挖掘领域中经常需要面临模型预测精度不足的严重问题。在这些领域中，缺失数据处理是提高模型准确和合理程度的一个关键点。\n",
    "数据缺失的场景有很多，比如进行在线问卷调查时，人们通常都不会分享与他们相关的所有信息，使用某一产品的体验满意度可能很好获得，但是联系方式就比较难收集了。诸如此类的数据缺失现象非常常见。"
   ]
  },
  {
   "cell_type": "markdown",
   "metadata": {},
   "source": [
    "### 1. 缺失值检测"
   ]
  },
  {
   "cell_type": "code",
   "execution_count": 3,
   "metadata": {
    "collapsed": false
   },
   "outputs": [
    {
     "name": "stdout",
     "output_type": "stream",
     "text": [
      "        one       two     three\n",
      "a  0.160120 -1.836773  1.437116\n",
      "b       NaN       NaN       NaN\n",
      "c -0.150992 -0.167657  0.922874\n",
      "d       NaN       NaN       NaN\n",
      "e  0.715220  0.360311 -0.025933\n",
      "f -1.052191 -0.163628 -0.829559\n",
      "g       NaN       NaN       NaN\n",
      "h  0.177549 -1.370043 -0.789223 \n",
      "\n",
      "a    False\n",
      "b     True\n",
      "c    False\n",
      "d     True\n",
      "e    False\n",
      "f    False\n",
      "g     True\n",
      "h    False\n",
      "Name: one, dtype: bool \n",
      "\n",
      "a     True\n",
      "b    False\n",
      "c     True\n",
      "d    False\n",
      "e     True\n",
      "f     True\n",
      "g    False\n",
      "h     True\n",
      "Name: one, dtype: bool\n"
     ]
    }
   ],
   "source": [
    "import pandas as pd\n",
    "import numpy as np\n",
    "\n",
    "df = pd.DataFrame(np.random.randn(5,3),index=list('acefh'),columns=['one','two','three'])\n",
    "df = df.reindex(list('abcdefgh'))\n",
    "print df,'\\n'\n",
    "print df['one'].isnull(),'\\n'\n",
    "print df['one'].notnull()"
   ]
  },
  {
   "cell_type": "markdown",
   "metadata": {},
   "source": [
    "### 2. 缺失值计算\n",
    "- 数据累加时，NA(NaN)被视为0\n",
    "- 如果所有数据都为NA，结果也将为NA"
   ]
  },
  {
   "cell_type": "code",
   "execution_count": 4,
   "metadata": {
    "collapsed": false
   },
   "outputs": [
    {
     "name": "stdout",
     "output_type": "stream",
     "text": [
      "0.31221771641\n"
     ]
    }
   ],
   "source": [
    "import pandas as pd\n",
    "import numpy as np\n",
    "\n",
    "df = pd.DataFrame(np.random.randn(5,3),index=list('acefh'),columns=['one','two','three'])\n",
    "df = df.reindex(list('abcdefgh'))\n",
    "print df['one'].sum()"
   ]
  },
  {
   "cell_type": "markdown",
   "metadata": {},
   "source": [
    "另一个例子"
   ]
  },
  {
   "cell_type": "code",
   "execution_count": 5,
   "metadata": {
    "collapsed": false
   },
   "outputs": [
    {
     "name": "stdout",
     "output_type": "stream",
     "text": [
      "nan\n"
     ]
    }
   ],
   "source": [
    "import pandas as pd\n",
    "import numpy as np\n",
    "\n",
    "df = pd.DataFrame(index=[0,1,2,3,4,5],columns=['one','two'])\n",
    "print df['one'].sum()"
   ]
  },
  {
   "cell_type": "markdown",
   "metadata": {},
   "source": [
    "### 3. 缺失值清理/填充\n",
    "- 用标量代替NaN"
   ]
  },
  {
   "cell_type": "code",
   "execution_count": 6,
   "metadata": {
    "collapsed": false
   },
   "outputs": [
    {
     "name": "stdout",
     "output_type": "stream",
     "text": [
      "        one       two     three\n",
      "a -0.635565 -1.638826 -0.308573\n",
      "b       NaN       NaN       NaN\n",
      "c  0.038882  0.035291  1.729256\n",
      "NaN replaced with '0':\n",
      "        one       two     three\n",
      "a -0.635565 -1.638826 -0.308573\n",
      "b  0.000000  0.000000  0.000000\n",
      "c  0.038882  0.035291  1.729256\n"
     ]
    }
   ],
   "source": [
    "import pandas as pd\n",
    "import numpy as np\n",
    "\n",
    "df = pd.DataFrame(np.random.randn(3,3),index=['a','c','e'],columns=['one','two','three'])\n",
    "df = df.reindex(['a','b','c'])\n",
    "print df\n",
    "print \"NaN replaced with '0':\"\n",
    "print df.fillna(0)"
   ]
  },
  {
   "cell_type": "markdown",
   "metadata": {},
   "source": [
    "- 前向/后向填充NA"
   ]
  },
  {
   "cell_type": "markdown",
   "metadata": {},
   "source": [
    "| 方式 | 行为 |\n",
    "| :---: | :---: |\n",
    "| pad/fill | 前向填充 |\n",
    "| bfill/backfill | 后向填充 |"
   ]
  },
  {
   "cell_type": "code",
   "execution_count": 11,
   "metadata": {
    "collapsed": false
   },
   "outputs": [
    {
     "name": "stdout",
     "output_type": "stream",
     "text": [
      "        one       two     three\n",
      "a  0.755379  0.027855  0.384575\n",
      "b       NaN       NaN       NaN\n",
      "c  0.715024  0.135741  0.552713\n",
      "d       NaN       NaN       NaN\n",
      "e -0.000671 -0.377629  1.083004\n",
      "f  2.383431 -1.351335 -0.359673\n",
      "g       NaN       NaN       NaN\n",
      "h -0.589477 -0.161721  0.927219 \n",
      "\n",
      "        one       two     three\n",
      "a  0.755379  0.027855  0.384575\n",
      "b  0.755379  0.027855  0.384575\n",
      "c  0.715024  0.135741  0.552713\n",
      "d  0.715024  0.135741  0.552713\n",
      "e -0.000671 -0.377629  1.083004\n",
      "f  2.383431 -1.351335 -0.359673\n",
      "g  2.383431 -1.351335 -0.359673\n",
      "h -0.589477 -0.161721  0.927219 \n",
      "\n",
      "        one       two     three\n",
      "a  0.755379  0.027855  0.384575\n",
      "b  0.715024  0.135741  0.552713\n",
      "c  0.715024  0.135741  0.552713\n",
      "d -0.000671 -0.377629  1.083004\n",
      "e -0.000671 -0.377629  1.083004\n",
      "f  2.383431 -1.351335 -0.359673\n",
      "g -0.589477 -0.161721  0.927219\n",
      "h -0.589477 -0.161721  0.927219\n"
     ]
    }
   ],
   "source": [
    "import pandas as pd\n",
    "import numpy as np\n",
    "\n",
    "df = pd.DataFrame(np.random.randn(5, 3), index=['a', 'c', 'e', 'f',\n",
    "'h'],columns=['one', 'two', 'three'])\n",
    "df = df.reindex(['a', 'b', 'c', 'd', 'e', 'f', 'g', 'h'])\n",
    "print df,'\\n'\n",
    "# 前向填充\n",
    "print df.fillna(method='pad'),'\\n' \n",
    "# 后向填充\n",
    "print df.fillna(method='bfill')"
   ]
  },
  {
   "cell_type": "markdown",
   "metadata": {},
   "source": [
    "### 4. 删除缺失值"
   ]
  },
  {
   "cell_type": "markdown",
   "metadata": {},
   "source": [
    "如果只需排除缺失值，则使用dropna函数和axis参数。默认情况下，axis = 0，即沿着行，这意味着如果一行内的任何值是NA，则删除整行。"
   ]
  },
  {
   "cell_type": "code",
   "execution_count": 12,
   "metadata": {
    "collapsed": false
   },
   "outputs": [
    {
     "name": "stdout",
     "output_type": "stream",
     "text": [
      "        one       two     three\n",
      "a -0.657432 -2.245392  1.369749\n",
      "c  0.158382  0.236098  0.345406\n",
      "e -1.254812 -1.373786  0.261470\n",
      "f  1.363391  1.516563  1.139172\n",
      "h  0.680741  0.106961 -1.279349\n"
     ]
    }
   ],
   "source": [
    "import pandas as pd\n",
    "import numpy as np\n",
    "\n",
    "df = pd.DataFrame(np.random.randn(5,3),index=['a','c','e','f','h'],\n",
    "                  columns=['one','two','three'])\n",
    "df = df.reindex(list('abcdefgh'))\n",
    "print df.dropna()"
   ]
  },
  {
   "cell_type": "markdown",
   "metadata": {},
   "source": [
    "### 5. 替换丢失（或）通用值\n",
    "很多时候，我们必须用一些具体值取代一个通用值。我们可以通过使用替换方法来实现这一点。用标量值替换NA与fillna()函数的行为等价。"
   ]
  },
  {
   "cell_type": "code",
   "execution_count": 13,
   "metadata": {
    "collapsed": false
   },
   "outputs": [
    {
     "name": "stdout",
     "output_type": "stream",
     "text": [
      "   one  two\n",
      "0   10  100\n",
      "1   20    0\n",
      "2   30   30\n",
      "3   40   40\n",
      "4   50   50\n",
      "5   60   60\n"
     ]
    }
   ],
   "source": [
    "import pandas as pd\n",
    "import numpy as np\n",
    "\n",
    "df = pd.DataFrame({'one':[10,20,30,40,50,2000],\n",
    "                  'two':[100,0,30,40,50,60]})\n",
    "print df.replace({1000:10,2000:60})"
   ]
  },
  {
   "cell_type": "code",
   "execution_count": null,
   "metadata": {
    "collapsed": true
   },
   "outputs": [],
   "source": []
  }
 ],
 "metadata": {
  "kernelspec": {
   "display_name": "Python 2",
   "language": "python",
   "name": "python2"
  },
  "language_info": {
   "codemirror_mode": {
    "name": "ipython",
    "version": 2
   },
   "file_extension": ".py",
   "mimetype": "text/x-python",
   "name": "python",
   "nbconvert_exporter": "python",
   "pygments_lexer": "ipython2",
   "version": "2.7.13"
  }
 },
 "nbformat": 4,
 "nbformat_minor": 0
}
