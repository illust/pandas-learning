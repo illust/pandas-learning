{
 "cells": [
  {
   "cell_type": "markdown",
   "metadata": {},
   "source": [
    "# 分类数据\n",
    "通常实时的数据包括重复的文本列。诸如性别、国家以及规范等特性通常都是重复的。\n",
    "分类变量只能采用有限的数量，而且通常是固定的数量。除了固定长度，分类数据可能有顺序，但不能执行数字操作。分类是Pandas的一个数据类型。\n",
    "分类数据类型在下列情况中很有用：\n",
    "- 一个字符串变量只由少数几个不同的值组成。将这种字符变量转换到分类数据类型将会节省一些内存空间。\n",
    "- 变量的词汇顺序与逻辑顺序（“one”，“two”，“three”）不同。通过转换为分类并指定类别上的顺序，排序和最小/最大将使用逻辑顺序，而不是词法顺序。\n",
    "- 作为其他python库的一个信号，这个列应该被当作一个分类变量（例如，使用合适的统计方法或plot类型）。"
   ]
  },
  {
   "cell_type": "markdown",
   "metadata": {},
   "source": [
    "### 1. 对象创建"
   ]
  },
  {
   "cell_type": "markdown",
   "metadata": {},
   "source": [
    "#### category\n",
    "在pandas对象创建时指定dtype为category。从下面结果可以看出，传递到Series对象的元素数目是四个，但是categories中只有三个。"
   ]
  },
  {
   "cell_type": "code",
   "execution_count": 2,
   "metadata": {
    "collapsed": false
   },
   "outputs": [
    {
     "name": "stdout",
     "output_type": "stream",
     "text": [
      "0    a\n",
      "1    b\n",
      "2    c\n",
      "3    a\n",
      "dtype: category\n",
      "Categories (3, object): [a, b, c]\n"
     ]
    }
   ],
   "source": [
    "import pandas as pd\n",
    "s = pd.Series([\"a\",\"b\",\"c\",\"a\"],dtype=\"category\")\n",
    "print s"
   ]
  },
  {
   "cell_type": "markdown",
   "metadata": {},
   "source": [
    "### pd.Categorical\n",
    "使用pandas标准Categorical构造器，我们可以创建一个category对象。"
   ]
  },
  {
   "cell_type": "code",
   "execution_count": 4,
   "metadata": {
    "collapsed": false
   },
   "outputs": [
    {
     "name": "stdout",
     "output_type": "stream",
     "text": [
      "[a, b, c, a, b, c]\n",
      "Categories (3, object): [a, b, c]\n",
      "[a, b, c, a, b, c, NaN]\n",
      "Categories (3, object): [c, b, a]\n"
     ]
    }
   ],
   "source": [
    "cat = pd.Categorical(['a','b','c','a','b','c'])\n",
    "print cat\n",
    "\n",
    "# 增加一个参数，指定categories\n",
    "cat1 = pd.Categorical(['a','b','c','a','b','c','d'],['c','b','a'])\n",
    "print cat1"
   ]
  },
  {
   "cell_type": "code",
   "execution_count": null,
   "metadata": {
    "collapsed": true
   },
   "outputs": [],
   "source": []
  }
 ],
 "metadata": {
  "kernelspec": {
   "display_name": "Python 2",
   "language": "python",
   "name": "python2"
  },
  "language_info": {
   "codemirror_mode": {
    "name": "ipython",
    "version": 2
   },
   "file_extension": ".py",
   "mimetype": "text/x-python",
   "name": "python",
   "nbconvert_exporter": "python",
   "pygments_lexer": "ipython2",
   "version": "2.7.13"
  }
 },
 "nbformat": 4,
 "nbformat_minor": 0
}
