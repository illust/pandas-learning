{
 "cells": [
  {
   "cell_type": "markdown",
   "metadata": {},
   "source": [
    "# 注意事项及陷阱"
   ]
  },
  {
   "cell_type": "markdown",
   "metadata": {},
   "source": [
    "### 1. 在Pandas中使用If/Truth语句\n",
    "当尝试将某些东西转换成布尔值时，Pandas遵循了numpy一样的错误惯例。这通常发生在使用布尔操作的if,when以及or,not语句中，但是却并不是很清楚结果应该是什么。因为非零长度所以结果是True？存在错误值所以结果是Fasle？Pandas中为了避免这种模糊，使用ValueError代替操作。"
   ]
  },
  {
   "cell_type": "code",
   "execution_count": 1,
   "metadata": {},
   "outputs": [
    {
     "ename": "ValueError",
     "evalue": "The truth value of a Series is ambiguous. Use a.empty, a.bool(), a.item(), a.any() or a.all().",
     "output_type": "error",
     "traceback": [
      "\u001b[1;31m---------------------------------------------------------------------------\u001b[0m",
      "\u001b[1;31mValueError\u001b[0m                                Traceback (most recent call last)",
      "\u001b[1;32m<ipython-input-1-b9b4563ca9da>\u001b[0m in \u001b[0;36m<module>\u001b[1;34m()\u001b[0m\n\u001b[0;32m      2\u001b[0m \u001b[1;32mimport\u001b[0m \u001b[0mnumpy\u001b[0m \u001b[1;32mas\u001b[0m \u001b[0mnp\u001b[0m\u001b[1;33m\u001b[0m\u001b[0m\n\u001b[0;32m      3\u001b[0m \u001b[1;33m\u001b[0m\u001b[0m\n\u001b[1;32m----> 4\u001b[1;33m \u001b[1;32mif\u001b[0m \u001b[0mpd\u001b[0m\u001b[1;33m.\u001b[0m\u001b[0mSeries\u001b[0m\u001b[1;33m(\u001b[0m\u001b[1;33m[\u001b[0m\u001b[0mFalse\u001b[0m\u001b[1;33m,\u001b[0m\u001b[0mTrue\u001b[0m\u001b[1;33m,\u001b[0m\u001b[0mFalse\u001b[0m\u001b[1;33m]\u001b[0m\u001b[1;33m)\u001b[0m\u001b[1;33m:\u001b[0m\u001b[1;33m\u001b[0m\u001b[0m\n\u001b[0m\u001b[0;32m      5\u001b[0m     \u001b[1;32mprint\u001b[0m \u001b[1;34m'I am True'\u001b[0m\u001b[1;33m\u001b[0m\u001b[0m\n",
      "\u001b[1;32mE:\\Software\\Anaconda2\\lib\\site-packages\\pandas\\core\\generic.pyc\u001b[0m in \u001b[0;36m__nonzero__\u001b[1;34m(self)\u001b[0m\n\u001b[0;32m    953\u001b[0m         raise ValueError(\"The truth value of a {0} is ambiguous. \"\n\u001b[0;32m    954\u001b[0m                          \u001b[1;34m\"Use a.empty, a.bool(), a.item(), a.any() or a.all().\"\u001b[0m\u001b[1;33m\u001b[0m\u001b[0m\n\u001b[1;32m--> 955\u001b[1;33m                          .format(self.__class__.__name__))\n\u001b[0m\u001b[0;32m    956\u001b[0m \u001b[1;33m\u001b[0m\u001b[0m\n\u001b[0;32m    957\u001b[0m     \u001b[0m__bool__\u001b[0m \u001b[1;33m=\u001b[0m \u001b[0m__nonzero__\u001b[0m\u001b[1;33m\u001b[0m\u001b[0m\n",
      "\u001b[1;31mValueError\u001b[0m: The truth value of a Series is ambiguous. Use a.empty, a.bool(), a.item(), a.any() or a.all()."
     ]
    }
   ],
   "source": [
    "import pandas as pd\n",
    "import numpy as np\n",
    "\n",
    "if pd.Series([False,True,False]):\n",
    "    print 'I am True'"
   ]
  },
  {
   "cell_type": "markdown",
   "metadata": {},
   "source": [
    "上述结果显示在if条件中，它并不清楚需要去做什么。给出的建议是选择使用None或者any等等。"
   ]
  },
  {
   "cell_type": "code",
   "execution_count": 2,
   "metadata": {},
   "outputs": [
    {
     "name": "stdout",
     "output_type": "stream",
     "text": [
      "I am any\n"
     ]
    }
   ],
   "source": [
    "if pd.Series([False,True,False]).any():\n",
    "    print 'I am any'"
   ]
  },
  {
   "cell_type": "markdown",
   "metadata": {},
   "source": [
    "计算一个单一元素为布尔值的Pandas对象，使用.bool()"
   ]
  },
  {
   "cell_type": "code",
   "execution_count": 3,
   "metadata": {},
   "outputs": [
    {
     "name": "stdout",
     "output_type": "stream",
     "text": [
      "True\n"
     ]
    }
   ],
   "source": [
    "print pd.Series([True]).bool()"
   ]
  },
  {
   "cell_type": "markdown",
   "metadata": {},
   "source": [
    "### 2. 按位布尔值"
   ]
  },
  {
   "cell_type": "markdown",
   "metadata": {},
   "source": [
    "按位布尔值操作比如==和!=，通常都会返回一个布尔值序列"
   ]
  },
  {
   "cell_type": "code",
   "execution_count": 4,
   "metadata": {},
   "outputs": [
    {
     "name": "stdout",
     "output_type": "stream",
     "text": [
      "0    False\n",
      "1    False\n",
      "2    False\n",
      "3    False\n",
      "4     True\n",
      "dtype: bool\n"
     ]
    }
   ],
   "source": [
    "s = pd.Series(range(5))\n",
    "print s == 4"
   ]
  },
  {
   "cell_type": "markdown",
   "metadata": {},
   "source": [
    "## 3. isin操作\n",
    "isin()返回一个布尔值序列，用于展示Series中的每一个元素是否刚好包含在传入的值序列里"
   ]
  },
  {
   "cell_type": "code",
   "execution_count": 5,
   "metadata": {},
   "outputs": [
    {
     "name": "stdout",
     "output_type": "stream",
     "text": [
      "0     True\n",
      "1    False\n",
      "2     True\n",
      "dtype: bool\n"
     ]
    }
   ],
   "source": [
    "s = pd.Series(list('abc'))\n",
    "s = s.isin(['a','c','e'])\n",
    "print s"
   ]
  },
  {
   "cell_type": "markdown",
   "metadata": {},
   "source": [
    "### 4. 重建索引与ix索引释疑\n",
    "许多使用Pandas的程序员都会使用ix索引作为从Pandas对象中选择数据的有效方法"
   ]
  },
  {
   "cell_type": "code",
   "execution_count": 6,
   "metadata": {},
   "outputs": [
    {
     "name": "stdout",
     "output_type": "stream",
     "text": [
      "        one       two     three      four\n",
      "a -0.877389 -0.555790  0.899977  0.136558\n",
      "b -0.103574 -0.779504 -1.343671  0.495502\n",
      "c -0.199091  1.916401  0.723781 -1.094855\n",
      "d -0.516062 -0.856850 -1.706442  0.700111\n",
      "e -1.772225  0.366969 -0.971277 -1.040466\n",
      "f  0.057092  0.476584 -0.980486 -1.159709\n",
      "        one       two     three      four\n",
      "b -0.103574 -0.779504 -1.343671  0.495502\n",
      "c -0.199091  1.916401  0.723781 -1.094855\n",
      "e -1.772225  0.366969 -0.971277 -1.040466\n"
     ]
    },
    {
     "name": "stderr",
     "output_type": "stream",
     "text": [
      "E:\\Software\\Anaconda2\\lib\\site-packages\\ipykernel_launcher.py:4: DeprecationWarning: \n",
      ".ix is deprecated. Please use\n",
      ".loc for label based indexing or\n",
      ".iloc for positional indexing\n",
      "\n",
      "See the documentation here:\n",
      "http://pandas.pydata.org/pandas-docs/stable/indexing.html#ix-indexer-is-deprecated\n",
      "  after removing the cwd from sys.path.\n"
     ]
    }
   ],
   "source": [
    "df = pd.DataFrame(np.random.randn(6,4),columns=['one','two','three',\n",
    "                'four'],index=list('abcdef'))\n",
    "print df\n",
    "print df.ix[['b','c','e']]"
   ]
  },
  {
   "cell_type": "markdown",
   "metadata": {},
   "source": [
    "在这种情境下，使用reindex方法与ix有完全相同的效果"
   ]
  },
  {
   "cell_type": "code",
   "execution_count": 7,
   "metadata": {},
   "outputs": [
    {
     "name": "stdout",
     "output_type": "stream",
     "text": [
      "        one       two     three      four\n",
      "b -0.103574 -0.779504 -1.343671  0.495502\n",
      "c -0.199091  1.916401  0.723781 -1.094855\n",
      "e -1.772225  0.366969 -0.971277 -1.040466\n"
     ]
    }
   ],
   "source": [
    "print df.reindex(['b','c','e'])"
   ]
  },
  {
   "cell_type": "markdown",
   "metadata": {},
   "source": [
    "绝大部分情况下，ix和reindex是相同作用，除了整数索引的情况。例如："
   ]
  },
  {
   "cell_type": "code",
   "execution_count": 8,
   "metadata": {},
   "outputs": [
    {
     "name": "stdout",
     "output_type": "stream",
     "text": [
      "        one       two     three      four\n",
      "a -0.877389 -0.555790  0.899977  0.136558\n",
      "b -0.103574 -0.779504 -1.343671  0.495502\n",
      "c -0.199091  1.916401  0.723781 -1.094855\n",
      "d -0.516062 -0.856850 -1.706442  0.700111\n",
      "e -1.772225  0.366969 -0.971277 -1.040466\n",
      "f  0.057092  0.476584 -0.980486 -1.159709 \n",
      "\n",
      "        one       two     three      four\n",
      "b -0.103574 -0.779504 -1.343671  0.495502\n",
      "c -0.199091  1.916401  0.723781 -1.094855\n",
      "e -1.772225  0.366969 -0.971277 -1.040466 \n",
      "\n",
      "   one  two  three  four\n",
      "1  NaN  NaN    NaN   NaN\n",
      "2  NaN  NaN    NaN   NaN\n",
      "4  NaN  NaN    NaN   NaN\n"
     ]
    }
   ],
   "source": [
    "print df,'\\n'\n",
    "print df.ix[[1,2,4]],'\\n'\n",
    "print df.reindex([1,2,4])"
   ]
  },
  {
   "cell_type": "markdown",
   "metadata": {},
   "source": [
    "**注意：**reindex是严格的只按标签索引函数，如果使用不当会有潜在的异常结果"
   ]
  },
  {
   "cell_type": "code",
   "execution_count": null,
   "metadata": {
    "collapsed": true
   },
   "outputs": [],
   "source": []
  }
 ],
 "metadata": {
  "kernelspec": {
   "display_name": "Python 2",
   "language": "python",
   "name": "python2"
  },
  "language_info": {
   "codemirror_mode": {
    "name": "ipython",
    "version": 2
   },
   "file_extension": ".py",
   "mimetype": "text/x-python",
   "name": "python",
   "nbconvert_exporter": "python",
   "pygments_lexer": "ipython2",
   "version": "2.7.13"
  }
 },
 "nbformat": 4,
 "nbformat_minor": 2
}
