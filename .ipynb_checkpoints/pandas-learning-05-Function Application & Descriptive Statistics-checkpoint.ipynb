{
 "cells": [
  {
   "cell_type": "markdown",
   "metadata": {},
   "source": [
    "# 函数应用及描述性统计"
   ]
  },
  {
   "cell_type": "markdown",
   "metadata": {},
   "source": [
    "## 1. 函数应用"
   ]
  },
  {
   "cell_type": "markdown",
   "metadata": {},
   "source": [
    "#### 有三个重要功能函数需要学习：\n",
    "- 表格级函数应用：pipe()\n",
    "- 行列级函数应用：apply()\n",
    "- 元素级函数应用：applymap()"
   ]
  },
  {
   "cell_type": "markdown",
   "metadata": {},
   "source": [
    "### 1.1 表格级函数应用——pipe()"
   ]
  },
  {
   "cell_type": "code",
   "execution_count": 1,
   "metadata": {
    "scrolled": true
   },
   "outputs": [
    {
     "name": "stdout",
     "output_type": "stream",
     "text": [
      "   col1  col2  col3\n",
      "0     0     1     2\n",
      "1     3     4     5\n",
      "2     6     7     8\n",
      "3     9    10    11\n",
      "4    12    13    14 \n",
      "\n",
      "   col1  col2  col3\n",
      "0     2     3     4\n",
      "1     5     6     7\n",
      "2     8     9    10\n",
      "3    11    12    13\n",
      "4    14    15    16\n"
     ]
    }
   ],
   "source": [
    "import pandas as pd\n",
    "import numpy as np\n",
    "\n",
    "def adder(ele1,ele2):\n",
    "    return ele1 + ele2\n",
    "\n",
    "df = pd.DataFrame(np.arange(0,15).reshape(5,3),columns=['col1','col2','col3'])\n",
    "print df,'\\n'\n",
    "dp = df.pipe(adder,2) # 等价于：adder(df,2)\n",
    "print dp"
   ]
  },
  {
   "cell_type": "markdown",
   "metadata": {
    "collapsed": true
   },
   "source": [
    "### 1.2 行列级函数应用——apply()"
   ]
  },
  {
   "cell_type": "code",
   "execution_count": 2,
   "metadata": {},
   "outputs": [
    {
     "name": "stdout",
     "output_type": "stream",
     "text": [
      "    a   b   c   d\n",
      "0   0   1   2   3\n",
      "1   4   5   6   7\n",
      "2   8   9  10  11\n",
      "3  12  13  14  15 \n",
      "\n",
      "a    6.0\n",
      "b    7.0\n",
      "c    8.0\n",
      "d    9.0\n",
      "dtype: float64 \n",
      "\n",
      "0    3\n",
      "1    3\n",
      "2    3\n",
      "3    3\n",
      "dtype: int64\n"
     ]
    }
   ],
   "source": [
    "import pandas as pd\n",
    "import numpy as np\n",
    "\n",
    "df = pd.DataFrame(np.arange(0,16).reshape(4,4),columns=list('abcd'))\n",
    "print df,'\\n'\n",
    "\n",
    "# 用参数axis指定列(取值0)或行(取值1)\n",
    "colm = df.apply(np.mean) # 对每一列取均值\n",
    "print colm,'\\n'\n",
    "\n",
    "rowm = df.apply(lambda x: x.max() - x.min(),axis=1) # 对每一行取均值\n",
    "print rowm"
   ]
  },
  {
   "cell_type": "markdown",
   "metadata": {},
   "source": [
    "### 1.3 元素级函数应用——applymap()"
   ]
  },
  {
   "cell_type": "code",
   "execution_count": 3,
   "metadata": {},
   "outputs": [
    {
     "name": "stdout",
     "output_type": "stream",
     "text": [
      "0       0\n",
      "1     400\n",
      "2     800\n",
      "3    1200\n",
      "Name: a, dtype: int64\n"
     ]
    }
   ],
   "source": [
    "import pandas as pd\n",
    "import numpy as np\n",
    "df = pd.DataFrame(np.arange(0,16).reshape(4,4),columns=list('abcd'))\n",
    "\n",
    "# 对某一列所有元素应用lambda函数\n",
    "dmp = df['a'].map(lambda x: x*100)\n",
    "print dmp"
   ]
  },
  {
   "cell_type": "code",
   "execution_count": 4,
   "metadata": {},
   "outputs": [
    {
     "name": "stdout",
     "output_type": "stream",
     "text": [
      "      a     b     c     d\n",
      "0     0   100   200   300\n",
      "1   400   500   600   700\n",
      "2   800   900  1000  1100\n",
      "3  1200  1300  1400  1500\n"
     ]
    }
   ],
   "source": [
    "import pandas as pd\n",
    "import numpy as np\n",
    "\n",
    "# 对数据框所有元素应用lambda函数\n",
    "df = pd.DataFrame(np.arange(0,16).reshape(4,4),columns=list('abcd'))\n",
    "amp = df.applymap(lambda x:x*100)\n",
    "print amp"
   ]
  },
  {
   "cell_type": "markdown",
   "metadata": {
    "collapsed": true
   },
   "source": [
    "## 2. 描述性统计\n",
    "### 2.1 sum(),mean(),std(), ..."
   ]
  },
  {
   "cell_type": "code",
   "execution_count": 5,
   "metadata": {},
   "outputs": [
    {
     "name": "stdout",
     "output_type": "stream",
     "text": [
      "Age                     99\n",
      "Name      TomJamesRickyVin\n",
      "Rating               14.01\n",
      "dtype: object \n",
      "\n",
      "0    29.23\n",
      "1    29.24\n",
      "2    28.98\n",
      "3    25.56\n",
      "dtype: float64 \n",
      "\n",
      "Age       24.7500\n",
      "Rating     3.5025\n",
      "dtype: float64 \n",
      "\n",
      "Age       1.258306\n",
      "Rating    0.755971\n",
      "dtype: float64\n"
     ]
    }
   ],
   "source": [
    "import pandas as pd\n",
    "import numpy as np\n",
    "\n",
    "# 创建一个Series字典\n",
    "d = {'Name':pd.Series(['Tom','James','Ricky','Vin']),\n",
    "   'Age':pd.Series([25,26,25,23]),\n",
    "   'Rating':pd.Series([4.23,3.24,3.98,2.56])}\n",
    "\n",
    "df = pd.DataFrame(d)\n",
    "# 默认地，axis=0，求columns的和\n",
    "# 如果一列当中元素为字符类型，求和操作转换为字符连接功能\n",
    "print df.sum(),'\\n'\n",
    "# axis=1，求index的和\n",
    "print df.sum(1),'\\n'\n",
    "# 求一列元素的均值\n",
    "print df.mean(),'\\n'\n",
    "# 求一列元素值的标准差\n",
    "print df.std()"
   ]
  },
  {
   "cell_type": "markdown",
   "metadata": {},
   "source": [
    "###  2.2 函数及描述汇总\n",
    "| No. | 函数 | 描述 |\n",
    "| :----:| :----: | :----: |\n",
    "| 1 | count() | 非空观测值的数量 |\n",
    "| 2 | sum() | 值的总和 |\n",
    "| 3 | mean() | 值的均值 |\n",
    "| 4 | median() | 值的中位数 |\n",
    "| 5 | mode() | 值的取模 |\n",
    "| 6 | std() | 值的标准差 |\n",
    "| 7 | min() | 最小值 |\n",
    "| 8 | max() | 最大值 |\n",
    "| 9 | abs() | 绝对值 |\n",
    "| 10 | prod() | 值的乘积 |\n",
    "| 11 | cumsum() | 累积和 |\n",
    "| 12 | cumprod() | 累计乘 |"
   ]
  },
  {
   "cell_type": "markdown",
   "metadata": {},
   "source": [
    "### 2.3 总结性数据describe()\n",
    "describe()函数计算与DataFrame列有关的统计信息的摘要，比如计数，均值等等。"
   ]
  },
  {
   "cell_type": "code",
   "execution_count": 6,
   "metadata": {},
   "outputs": [
    {
     "name": "stdout",
     "output_type": "stream",
     "text": [
      "   Age   Name  Rating\n",
      "0   25    Tom    4.23\n",
      "1   26  James    3.24\n",
      "2   25  Ricky    3.98\n",
      "3   23    Vin    2.56 \n",
      "\n",
      "             Age    Rating\n",
      "count   4.000000  4.000000\n",
      "mean   24.750000  3.502500\n",
      "std     1.258306  0.755971\n",
      "min    23.000000  2.560000\n",
      "25%    24.500000  3.070000\n",
      "50%    25.000000  3.610000\n",
      "75%    25.250000  4.042500\n",
      "max    26.000000  4.230000\n"
     ]
    }
   ],
   "source": [
    "print df,'\\n'\n",
    "print df.describe()"
   ]
  }
 ],
 "metadata": {
  "kernelspec": {
   "display_name": "Python 2",
   "language": "python",
   "name": "python2"
  },
  "language_info": {
   "codemirror_mode": {
    "name": "ipython",
    "version": 2
   },
   "file_extension": ".py",
   "mimetype": "text/x-python",
   "name": "python",
   "nbconvert_exporter": "python",
   "pygments_lexer": "ipython2",
   "version": "2.7.13"
  }
 },
 "nbformat": 4,
 "nbformat_minor": 1
}
