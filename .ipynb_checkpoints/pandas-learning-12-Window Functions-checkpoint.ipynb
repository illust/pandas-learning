{
 "cells": [
  {
   "cell_type": "markdown",
   "metadata": {},
   "source": [
    "# 1. 窗函数\n",
    "为了处理数字数据，Pandas提供了几个变体，如滚动，展开和指数移动窗口统计的权重。其中包括总和，均值，中位数，方差，协方差，相关性等。\n",
    "\n",
    "### 1.1 rolling()函数\n",
    "函数完整原型参见官方文档，这里只涉及window和min_periods两个参数。\n",
    "```python\n",
    "df.rolling(window,min_periods)\n",
    "```\n",
    "window参数即移动的窗口大小，min_periods官方文档指的是窗口中观察到的最小数量需要有的一个值(否则结果是NA)。文字说明不好理解，下面用示例说明。"
   ]
  },
  {
   "cell_type": "code",
   "execution_count": 1,
   "metadata": {},
   "outputs": [
    {
     "name": "stdout",
     "output_type": "stream",
     "text": [
      "    a   b\n",
      "0   0   1\n",
      "1   2   3\n",
      "2   4   5\n",
      "3   6   7\n",
      "4   8   9\n",
      "5  10  11 \n",
      "\n",
      "     a    b\n",
      "0  NaN  NaN\n",
      "1  NaN  NaN\n",
      "2  0.0  1.0\n",
      "3  2.0  3.0\n",
      "4  4.0  5.0\n",
      "5  6.0  7.0 \n",
      "\n",
      "     a    b\n",
      "0  NaN  NaN\n",
      "1  0.0  1.0\n",
      "2  0.0  1.0\n",
      "3  2.0  3.0\n",
      "4  4.0  5.0\n",
      "5  6.0  7.0\n"
     ]
    }
   ],
   "source": [
    "import numpy as np\n",
    "import pandas as pd\n",
    "\n",
    "df = pd.DataFrame(np.arange(12).reshape(6,2),columns=list('ab'))\n",
    "print df,'\\n'\n",
    "\n",
    "# 只使用window参数,求范围内的最小值\n",
    "print df.rolling(window=3).min(),'\\n'\n",
    "\n",
    "# 添加min_periods参数\n",
    "print df.rolling(window=3,min_periods=2).min()"
   ]
  },
  {
   "cell_type": "markdown",
   "metadata": {
    "collapsed": true
   },
   "source": [
    "从上面可以看出，可以理解min_periods是将窗口内本应该是NaN的位置填充了窗函数计算而来的值。"
   ]
  },
  {
   "cell_type": "markdown",
   "metadata": {},
   "source": [
    "### .expanding()函数"
   ]
  },
  {
   "cell_type": "code",
   "execution_count": null,
   "metadata": {
    "collapsed": true
   },
   "outputs": [],
   "source": []
  },
  {
   "cell_type": "markdown",
   "metadata": {},
   "source": [
    "### .ewm()函数"
   ]
  },
  {
   "cell_type": "code",
   "execution_count": null,
   "metadata": {
    "collapsed": true
   },
   "outputs": [],
   "source": []
  }
 ],
 "metadata": {
  "kernelspec": {
   "display_name": "Python 2",
   "language": "python",
   "name": "python2"
  },
  "language_info": {
   "codemirror_mode": {
    "name": "ipython",
    "version": 2
   },
   "file_extension": ".py",
   "mimetype": "text/x-python",
   "name": "python",
   "nbconvert_exporter": "python",
   "pygments_lexer": "ipython2",
   "version": "2.7.13"
  }
 },
 "nbformat": 4,
 "nbformat_minor": 1
}
