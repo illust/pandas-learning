{
 "cells": [
  {
   "cell_type": "markdown",
   "metadata": {},
   "source": [
    "# 1. 窗函数\n",
    "为了处理数字数据，Pandas提供了几个变体，如滚动，展开和指数移动窗口统计的权重。其中包括总和，均值，中位数，方差，协方差，相关性等。\n",
    "\n",
    "### 1.1 rolling()函数\n",
    "函数完整原型参见官方文档，这里只涉及window和min_periods两个参数。\n",
    "```python\n",
    "df.rolling(window,min_periods)\n",
    "```\n",
    "window参数即移动的窗口大小，min_periods官方文档指的是窗口中观察到的最小数量需要有的一个值(否则结果是NA)。文字说明不好理解，下面用示例说明。"
   ]
  },
  {
   "cell_type": "code",
   "execution_count": 2,
   "metadata": {},
   "outputs": [
    {
     "name": "stdout",
     "output_type": "stream",
     "text": [
      "   a  b\n",
      "0  0  1\n",
      "1  2  3\n",
      "2  4  5\n",
      "3  6  7\n",
      "4  8  9 \n",
      "\n",
      "     a    b\n",
      "0  NaN  NaN\n",
      "1  NaN  NaN\n",
      "2  0.0  1.0\n",
      "3  2.0  3.0\n",
      "4  4.0  5.0 \n",
      "\n",
      "     a    b\n",
      "0  NaN  NaN\n",
      "1  0.0  1.0\n",
      "2  0.0  1.0\n",
      "3  2.0  3.0\n",
      "4  4.0  5.0\n"
     ]
    }
   ],
   "source": [
    "import numpy as np\n",
    "import pandas as pd\n",
    "\n",
    "df = pd.DataFrame(np.arange(10).reshape(5,2),columns=list('ab'))\n",
    "print df,'\\n'\n",
    "\n",
    "# 只使用window参数,求窗口内每一列的最小值\n",
    "print df.rolling(window=3).min(),'\\n'\n",
    "\n",
    "# 添加min_periods参数\n",
    "print df.rolling(window=3,min_periods=2).min()"
   ]
  },
  {
   "cell_type": "markdown",
   "metadata": {
    "collapsed": true
   },
   "source": [
    "查阅了相关资料，发现最准确的官方文档讲的自己还是不懂，可能是英文水平差的原因。后来经过自己动手实操，才真正弄懂了。如果rolling()等类似窗函数带有min_periods参数时，可以认为相当于window内存在一个大小可变的小窗，用于填充window内的NA。尺寸范围是[min_periods,window)。\n",
    "图示如下，便于以后理解。\n",
    "![min_periods](http://m.qpic.cn/psb?/V10w5dTk0VJrTr/CBYkpgpmC350lLKx7cYPz9dxXvle4ldRd1xGMNrNTOE!/b/dJUAAAAAAAAA&bo=VwOAAgAAAAARF*Y!&rf=viewer_4)"
   ]
  },
  {
   "cell_type": "markdown",
   "metadata": {},
   "source": [
    "### 1.2 expanding()函数\n",
    "该函数可以应用于一系列数据。指定min_periods=n参数，然后使用合适的统计函数。  \n",
    "由1.1中的解释，可以很容易明白expanding()的使用，可变窗口尺寸范围为[min_periods,len(df)]。"
   ]
  },
  {
   "cell_type": "code",
   "execution_count": 10,
   "metadata": {},
   "outputs": [
    {
     "name": "stdout",
     "output_type": "stream",
     "text": [
      "            A  B\n",
      "2000-01-01  2  3\n",
      "2000-01-02  0  4\n",
      "2000-01-03  6  8\n",
      "2000-01-04  1  5\n",
      "2000-01-05  9  7 \n",
      "\n",
      "              A    B\n",
      "2000-01-01  NaN  NaN\n",
      "2000-01-02  NaN  NaN\n",
      "2000-01-03  6.0  8.0\n",
      "2000-01-04  6.0  8.0\n",
      "2000-01-05  9.0  8.0 \n",
      "\n",
      "              A    B\n",
      "2000-01-01  NaN  NaN\n",
      "2000-01-02  NaN  NaN\n",
      "2000-01-03  NaN  NaN\n",
      "2000-01-04  NaN  NaN\n",
      "2000-01-05  3.6  5.4\n"
     ]
    }
   ],
   "source": [
    "df = pd.DataFrame(np.array([[2,3],[0,4],[6,8],[1,5],[9,7]]),\n",
    "      index = pd.date_range('1/1/2000', periods=5),\n",
    "      columns = ['A', 'B'])\n",
    "print df,'\\n'\n",
    "print df.expanding(min_periods=3).max(),'\\n'\n",
    "print df.expanding(min_periods=len(df)).mean()"
   ]
  },
  {
   "cell_type": "markdown",
   "metadata": {},
   "source": [
    "顺便多说一句废话，从这里就可以看出pandas的优点了。不用使用Excel，一句表达式就可以求出表格中每列任意项的统计量，很Geek有没有23333"
   ]
  },
  {
   "cell_type": "markdown",
   "metadata": {},
   "source": [
    "### 1.3 ewm()函数\n",
    "指数加权函数。遇到再说。你要等不及了，可以看[这里](http://python.usyiyi.cn/documents/Pandas_0j2/generated/pandas.Series.ewm.html)"
   ]
  },
  {
   "cell_type": "code",
   "execution_count": null,
   "metadata": {
    "collapsed": true
   },
   "outputs": [],
   "source": []
  }
 ],
 "metadata": {
  "kernelspec": {
   "display_name": "Python 2",
   "language": "python",
   "name": "python2"
  },
  "language_info": {
   "codemirror_mode": {
    "name": "ipython",
    "version": 2
   },
   "file_extension": ".py",
   "mimetype": "text/x-python",
   "name": "python",
   "nbconvert_exporter": "python",
   "pygments_lexer": "ipython2",
   "version": "2.7.13"
  }
 },
 "nbformat": 4,
 "nbformat_minor": 1
}
