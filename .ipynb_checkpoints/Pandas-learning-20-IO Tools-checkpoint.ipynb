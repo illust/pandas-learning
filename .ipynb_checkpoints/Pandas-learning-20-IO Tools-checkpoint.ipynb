{
 "cells": [
  {
   "cell_type": "markdown",
   "metadata": {},
   "source": [
    "# 文件处理工具\n",
    "Pandas中的的输入输出（I/O）API是一套具有文件访问读取并返回Pandas对象功能的工具。读取文本文件的两个主要函数是read_csv()和read_table()，它们使用相同的解析代码将表格数据智能地转换为DataFrame对象。"
   ]
  },
  {
   "cell_type": "markdown",
   "metadata": {},
   "source": [
    "###  read_csv()\n",
    "pd.read_csv()从.csv文件中读取数据并创建一个DataFrame对象"
   ]
  },
  {
   "cell_type": "code",
   "execution_count": 8,
   "metadata": {},
   "outputs": [
    {
     "name": "stdout",
     "output_type": "stream",
     "text": [
      "   Unnamed: 0  Age       City    Name  S.No  Salary\n",
      "0           0   28    Toronto     Tom     1   20000\n",
      "1           1   32   HongKong     Lee     2    3000\n",
      "2           2   43   Bay Area  Steven     3    8300\n",
      "3           3   38  Hyderabad     Ram     4    3900\n"
     ]
    }
   ],
   "source": [
    "import pandas as pd\n",
    "\n",
    "# Save follow data as temp.csv\n",
    "#df = pd.DataFrame({\"S.No\":[1,2,3,4],\"Name\":[\"Tom\",\"Lee\",\"Steven\",\"Ram\"],\"Age\":[28,32,43,38],\n",
    "#                   \"City\":[\"Toronto\",\"HongKong\",\"Bay Area\",\"Hyderabad\"],\"Salary\":[20000,3000,8300,3900]})\n",
    "#df.to_csv(\"temp.csv\")\n",
    "df = pd.read_csv(\"temp.csv\")\n",
    "print df"
   ]
  },
  {
   "cell_type": "markdown",
   "metadata": {},
   "source": [
    "**当然也可以读取指定的标签列**"
   ]
  },
  {
   "cell_type": "code",
   "execution_count": 9,
   "metadata": {},
   "outputs": [
    {
     "name": "stdout",
     "output_type": "stream",
     "text": [
      "     Unnamed: 0       City    Name  S.No  Salary\n",
      "Age                                             \n",
      "28            0    Toronto     Tom     1   20000\n",
      "32            1   HongKong     Lee     2    3000\n",
      "43            2   Bay Area  Steven     3    8300\n",
      "38            3  Hyderabad     Ram     4    3900\n"
     ]
    }
   ],
   "source": [
    "df = pd.read_csv(\"temp.csv\",index_col=['Age'])\n",
    "print df"
   ]
  },
  {
   "cell_type": "markdown",
   "metadata": {},
   "source": [
    "**类型转换**"
   ]
  },
  {
   "cell_type": "code",
   "execution_count": 11,
   "metadata": {},
   "outputs": [
    {
     "name": "stdout",
     "output_type": "stream",
     "text": [
      "Unnamed: 0      int64\n",
      "Age             int64\n",
      "City           object\n",
      "Name           object\n",
      "S.No            int64\n",
      "Salary        float64\n",
      "dtype: object\n"
     ]
    }
   ],
   "source": [
    "import numpy as np\n",
    "df = pd.read_csv(\"temp.csv\",dtype={'Salary':np.float64})\n",
    "print df.dtypes"
   ]
  },
  {
   "cell_type": "markdown",
   "metadata": {},
   "source": [
    "**标题名称**"
   ]
  },
  {
   "cell_type": "code",
   "execution_count": 16,
   "metadata": {},
   "outputs": [
    {
     "name": "stdout",
     "output_type": "stream",
     "text": [
      "        a          b       c     d       e\n",
      "NaN   Age       City    Name  S.No  Salary\n",
      " 0.0   28    Toronto     Tom     1   20000\n",
      " 1.0   32   HongKong     Lee     2    3000\n",
      " 2.0   43   Bay Area  Steven     3    8300\n",
      " 3.0   38  Hyderabad     Ram     4    3900 \n",
      "\n",
      "    a          b       c  d      e\n",
      "0  28    Toronto     Tom  1  20000\n",
      "1  32   HongKong     Lee  2   3000\n",
      "2  43   Bay Area  Steven  3   8300\n",
      "3  38  Hyderabad     Ram  4   3900 \n",
      "\n",
      "   1  32   HongKong     Lee  2  3000\n",
      "0  2  43   Bay Area  Steven  3  8300\n",
      "1  3  38  Hyderabad     Ram  4  3900\n"
     ]
    }
   ],
   "source": [
    "df = pd.read_csv(\"temp.csv\",names=['a','b','c','d','e'])\n",
    "print df,'\\n'\n",
    "\n",
    "# 观察可知，标题名称附加在了自定义名称后面，并没有被消除，可以添加header参数进行去除\n",
    "df1 = pd.read_csv(\"temp.csv\",names=['a','b','c','d','e'],header=0)\n",
    "print df1,'\\n'\n",
    "\n",
    "# skiprows参数跳过指定数目的行\n",
    "df2 = pd.read_csv(\"temp.csv\",skiprows=2)\n",
    "print df2"
   ]
  },
  {
   "cell_type": "code",
   "execution_count": null,
   "metadata": {
    "collapsed": true
   },
   "outputs": [],
   "source": []
  }
 ],
 "metadata": {
  "kernelspec": {
   "display_name": "Python 2",
   "language": "python",
   "name": "python2"
  },
  "language_info": {
   "codemirror_mode": {
    "name": "ipython",
    "version": 2
   },
   "file_extension": ".py",
   "mimetype": "text/x-python",
   "name": "python",
   "nbconvert_exporter": "python",
   "pygments_lexer": "ipython2",
   "version": "2.7.13"
  }
 },
 "nbformat": 4,
 "nbformat_minor": 2
}
