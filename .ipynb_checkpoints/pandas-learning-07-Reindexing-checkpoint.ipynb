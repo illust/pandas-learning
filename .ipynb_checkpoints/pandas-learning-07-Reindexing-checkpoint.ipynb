{
 "cells": [
  {
   "cell_type": "markdown",
   "metadata": {},
   "source": [
    "# 重建索引"
   ]
  },
  {
   "cell_type": "markdown",
   "metadata": {},
   "source": [
    "### 1. 重建索引改变DataFrame的行列标签，获得指定行列的集合\n",
    "#### reindex功能可以帮助实现很多操作\n",
    "- 对现有数据重新排序以匹配一组新的标签\n",
    "- 在缺少标签数据的标签位置插入缺失值（NA）标记"
   ]
  },
  {
   "cell_type": "code",
   "execution_count": 1,
   "metadata": {},
   "outputs": [
    {
     "name": "stdout",
     "output_type": "stream",
     "text": [
      "           A       C           D    x         y\n",
      "0 2016-01-01     Low  102.470835  0.0  0.045899\n",
      "1 2016-01-02    High  104.717665  1.0  0.069420\n",
      "2 2016-01-03     Low  112.804351  2.0  0.804350\n",
      "3 2016-01-04     Low   97.201832  3.0  0.115151\n",
      "4 2016-01-05  Medium  122.393591  4.0  0.086764 \n",
      "\n",
      "           A    C   B\n",
      "0 2016-01-01  Low NaN\n",
      "2 2016-01-03  Low NaN\n",
      "5 2016-01-06  Low NaN\n"
     ]
    }
   ],
   "source": [
    "import pandas as pd\n",
    "import numpy as np\n",
    "\n",
    "N = 20\n",
    "\n",
    "df = pd.DataFrame({\n",
    "        'A':pd.date_range(start='2016-01-01',periods=N,freq='D'),\n",
    "        'x':np.linspace(0,stop=N-1,num=N),\n",
    "        'y':np.random.rand(N),\n",
    "        'C':np.random.choice(['Low','Medium','High'],N).tolist(),\n",
    "        'D':np.random.normal(100,10,size=(N)).tolist()\n",
    "    })\n",
    "\n",
    "print df.head(5),'\\n'\n",
    "\n",
    "# 更新DataFrame索引\n",
    "df_reindexed = df.reindex(index=[0,2,5],columns=['A','C','B'])\n",
    "\n",
    "# 打印结果可以看出,df_reindexed是df实例集合中的子集\n",
    "# 'B'列不存在，所有元素均为NaN\n",
    "print df_reindexed"
   ]
  },
  {
   "cell_type": "markdown",
   "metadata": {},
   "source": [
    "### 2. 重建索引以便与其他对象对齐"
   ]
  },
  {
   "cell_type": "code",
   "execution_count": 2,
   "metadata": {},
   "outputs": [
    {
     "name": "stdout",
     "output_type": "stream",
     "text": [
      "       col1      col2      col3\n",
      "0 -0.557205 -0.198954  0.712611\n",
      "1  0.085433  0.249148  0.406792\n",
      "2 -0.199009 -1.615648  1.119526\n",
      "3  0.002479  0.644308  0.856208\n",
      "4 -0.004188 -1.365420 -0.523404\n",
      "5  0.636174 -1.903351  0.681883\n",
      "6  0.866583 -0.180536  0.444527\n",
      "7  0.335972 -0.549129  0.572933\n",
      "8  0.250375  1.470547  1.271760\n",
      "9 -0.521196  0.493034  0.111265 \n",
      "\n",
      "       col1      col3\n",
      "0  0.525968  0.242134\n",
      "1  0.709595  0.213514\n",
      "2 -1.829976  0.121692\n",
      "3  0.001433 -0.953921\n",
      "4 -0.621043  0.065054\n",
      "5 -0.210973 -0.691195\n",
      "6 -0.257499 -1.741614 \n",
      "\n",
      "       col1      col3\n",
      "0 -0.557205  0.712611\n",
      "1  0.085433  0.406792\n",
      "2 -0.199009  1.119526\n",
      "3  0.002479  0.856208\n",
      "4 -0.004188 -0.523404\n",
      "5  0.636174  0.681883\n",
      "6  0.866583  0.444527\n"
     ]
    }
   ],
   "source": [
    "# df.reindex_like\n",
    "df1 = pd.DataFrame(np.random.randn(10,3),columns=['col1','col2','col3'])\n",
    "df2 = pd.DataFrame(np.random.randn(7,2),columns=['col1','col3'])\n",
    "\n",
    "print df1,'\\n'\n",
    "print df2,'\\n'\n",
    "\n",
    "df1 = df1.reindex_like(df2)\n",
    "# 打印结果，可以看出变换后的df1与df2拥有相同的索引与列名\n",
    "print df1"
   ]
  },
  {
   "cell_type": "markdown",
   "metadata": {},
   "source": [
    "### 3. 重建索引时填充参数\n",
    "- pad/ffill -- 向前填充值\n",
    "- bfill/backfill -- 向后填充值\n",
    "- nearest -- 最近索引值填充"
   ]
  },
  {
   "cell_type": "code",
   "execution_count": 3,
   "metadata": {},
   "outputs": [
    {
     "name": "stdout",
     "output_type": "stream",
     "text": [
      "       col1      col2      col3\n",
      "0 -1.793199  1.009479 -0.550967\n",
      "1  1.142674 -0.800785  1.976298\n",
      "2       NaN       NaN       NaN\n",
      "3       NaN       NaN       NaN\n",
      "4       NaN       NaN       NaN\n",
      "5       NaN       NaN       NaN \n",
      "\n",
      "DataFrame with Forward Fill:\n",
      "       col1      col2      col3\n",
      "0 -1.793199  1.009479 -0.550967\n",
      "1  1.142674 -0.800785  1.976298\n",
      "2  1.142674 -0.800785  1.976298\n",
      "3  1.142674 -0.800785  1.976298\n",
      "4  1.142674 -0.800785  1.976298\n",
      "5  1.142674 -0.800785  1.976298 \n",
      "\n",
      "DataFrame with Forward Fill(only 2 indexes row):\n",
      "       col1      col2      col3\n",
      "0 -1.793199  1.009479 -0.550967\n",
      "1  1.142674 -0.800785  1.976298\n",
      "2  1.142674 -0.800785  1.976298\n",
      "3  1.142674 -0.800785  1.976298\n",
      "4       NaN       NaN       NaN\n",
      "5       NaN       NaN       NaN\n"
     ]
    }
   ],
   "source": [
    "import pandas as pd\n",
    "import numpy as np\n",
    "\n",
    "df1 = pd.DataFrame(np.random.randn(6,3),columns=['col1','col2','col3'])\n",
    "df2 = pd.DataFrame(np.random.randn(2,3),columns=['col1','col2','col3'])\n",
    "\n",
    "# 自动填充NaN\n",
    "print df2.reindex_like(df1),'\\n'\n",
    "\n",
    "# 现在对NaN进行填充处理的值\n",
    "# 这里打印的效果等价于method='nearest'\n",
    "print 'DataFrame with Forward Fill:'\n",
    "print df2.reindex_like(df1,method='ffill') ,'\\n'\n",
    "\n",
    "# 如果要限制填充范围，可添加参数limit\n",
    "print 'DataFrame with Forward Fill(only 2 indexes row):'\n",
    "print df2.reindex_like(df1,method='ffill',limit=2)"
   ]
  }
 ],
 "metadata": {
  "kernelspec": {
   "display_name": "Python 2",
   "language": "python",
   "name": "python2"
  },
  "language_info": {
   "codemirror_mode": {
    "name": "ipython",
    "version": 2
   },
   "file_extension": ".py",
   "mimetype": "text/x-python",
   "name": "python",
   "nbconvert_exporter": "python",
   "pygments_lexer": "ipython2",
   "version": "2.7.13"
  }
 },
 "nbformat": 4,
 "nbformat_minor": 1
}
