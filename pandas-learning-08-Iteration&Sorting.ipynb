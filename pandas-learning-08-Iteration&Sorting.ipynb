{
 "cells": [
  {
   "cell_type": "markdown",
   "metadata": {},
   "source": [
    "# 迭代与排序"
   ]
  },
  {
   "cell_type": "markdown",
   "metadata": {},
   "source": [
    "## 1. 迭代"
   ]
  },
  {
   "cell_type": "markdown",
   "metadata": {},
   "source": [
    "### 1.1 对DataFrame进行迭代"
   ]
  },
  {
   "cell_type": "code",
   "execution_count": 1,
   "metadata": {},
   "outputs": [
    {
     "name": "stdout",
     "output_type": "stream",
     "text": [
      "A\n",
      "C\n",
      "D\n",
      "x\n",
      "y\n"
     ]
    }
   ],
   "source": [
    "import pandas as pd\n",
    "import numpy as np\n",
    "\n",
    "N = 20\n",
    "df = pd.DataFrame({\n",
    "        'A':pd.date_range(start='2016-01-01',periods=N,freq='D'),\n",
    "        'x':np.linspace(0,stop=N-1,num=N),\n",
    "        'y':np.random.rand(N),\n",
    "        'C':np.random.choice(['low','Medium','High'],N).tolist(),\n",
    "        'D':np.random.normal(100,10,size=(N)).tolist()\n",
    "    })\n",
    "\n",
    "for col in df:\n",
    "    print col"
   ]
  },
  {
   "cell_type": "markdown",
   "metadata": {},
   "source": [
    "#### 迭代DataFrame中的所有行或列，我们可以使用：\n",
    "1. iteritems()-- 对列进行迭代，返回(columns,Series)对\n",
    "2. iterrows() -- 对行进行迭代，返回(index，Series)对\n",
    "3. itertuples() -- 对行进行迭代，返回namedtuples类型  \n",
    "\n",
    "**注意：**这里只是提到对DataFrame的迭代，而对Series和Panel的迭代有所不同，因为重要性比较小，这里不涉及"
   ]
  },
  {
   "cell_type": "markdown",
   "metadata": {},
   "source": [
    "### 1.2 iteritems()\n",
    "将每一列的名称作为键，列值作为Series对象进行迭代"
   ]
  },
  {
   "cell_type": "code",
   "execution_count": 1,
   "metadata": {},
   "outputs": [
    {
     "name": "stdout",
     "output_type": "stream",
     "text": [
      "   col1  col2  col3\n",
      "0     0     1     2\n",
      "1     3     4     5\n",
      "2     6     7     8\n",
      "3     9    10    11 \n",
      "\n",
      "col1 \n",
      "0    0\n",
      "1    3\n",
      "2    6\n",
      "3    9\n",
      "Name: col1, dtype: int32 True \n",
      "\n",
      "col2 \n",
      "0     1\n",
      "1     4\n",
      "2     7\n",
      "3    10\n",
      "Name: col2, dtype: int32 True \n",
      "\n",
      "col3 \n",
      "0     2\n",
      "1     5\n",
      "2     8\n",
      "3    11\n",
      "Name: col3, dtype: int32 True \n",
      "\n"
     ]
    }
   ],
   "source": [
    "import pandas as pd\n",
    "import numpy as np\n",
    "\n",
    "df = pd.DataFrame(np.arange(0,12).reshape(4,3),columns=['col1','col2','col3'])\n",
    "print df,'\\n'\n",
    "for key,value in df.iteritems():\n",
    "    print key,'\\n',value,isinstance(value,pd.Series),'\\n'"
   ]
  },
  {
   "cell_type": "markdown",
   "metadata": {},
   "source": [
    "### 1.3 iterrows()\n",
    "iterrows()返回产生每个索引值的迭代器以及包含每行数据的序列"
   ]
  },
  {
   "cell_type": "code",
   "execution_count": 2,
   "metadata": {},
   "outputs": [
    {
     "name": "stdout",
     "output_type": "stream",
     "text": [
      "   col1  col2  col3\n",
      "0     0     1     2\n",
      "1     3     4     5\n",
      "2     6     7     8\n",
      "3     9    10    11 \n",
      "\n",
      "0 col1    0\n",
      "col2    1\n",
      "col3    2\n",
      "Name: 0, dtype: int32 \n",
      "\n",
      "1 col1    3\n",
      "col2    4\n",
      "col3    5\n",
      "Name: 1, dtype: int32 \n",
      "\n",
      "2 col1    6\n",
      "col2    7\n",
      "col3    8\n",
      "Name: 2, dtype: int32 \n",
      "\n",
      "3 col1     9\n",
      "col2    10\n",
      "col3    11\n",
      "Name: 3, dtype: int32 \n",
      "\n"
     ]
    }
   ],
   "source": [
    "import pandas as pd\n",
    "import numpy as np\n",
    "\n",
    "df = pd.DataFrame(np.arange(0,12).reshape(4,3),columns=['col1','col2','col3'])\n",
    "print df,'\\n'\n",
    "for row_index,row in df.iterrows():\n",
    "    print row_index,row,'\\n'"
   ]
  },
  {
   "cell_type": "markdown",
   "metadata": {},
   "source": [
    "**注意:** 因为iterrows()遍历行，所以不会保留行的数据类型。0,1,2是行索引，col1，col2，col3是列索引"
   ]
  },
  {
   "cell_type": "markdown",
   "metadata": {},
   "source": [
    "### 1.4 itertuples()\n",
    "itertuples()方法将返回一个迭代器，产生DataFrame中每一行的命名元组。元组的第一个元素将是行对应的索引值，而其余的值是行元素值  \n",
    "该函数通常比iterrows()快，因为不需要做转换"
   ]
  },
  {
   "cell_type": "code",
   "execution_count": 3,
   "metadata": {},
   "outputs": [
    {
     "name": "stdout",
     "output_type": "stream",
     "text": [
      "   col1  col2  col3\n",
      "0     0     1     2\n",
      "1     3     4     5\n",
      "2     6     7     8\n",
      "3     9    10    11 \n",
      "\n",
      "Pandas(Index=0, col1=0, col2=1, col3=2) True\n",
      "Pandas(Index=1, col1=3, col2=4, col3=5) True\n",
      "Pandas(Index=2, col1=6, col2=7, col3=8) True\n",
      "Pandas(Index=3, col1=9, col2=10, col3=11) True\n"
     ]
    }
   ],
   "source": [
    "import pandas as pd\n",
    "import numpy as np\n",
    "\n",
    "df = pd.DataFrame(np.arange(0,12).reshape(4,3),columns=['col1','col2','col3'])\n",
    "print df,'\\n'\n",
    "for row in df.itertuples():\n",
    "    print row,isinstance(row,tuple)"
   ]
  },
  {
   "cell_type": "markdown",
   "metadata": {
    "collapsed": true
   },
   "source": [
    "**注意：** 迭代的意义是为了便于阅读，不要尝试迭代过程中修改任何对象，因为迭代器返回的只是原始对象的拷贝"
   ]
  },
  {
   "cell_type": "markdown",
   "metadata": {
    "collapsed": true
   },
   "source": [
    "## 2. 排序"
   ]
  },
  {
   "cell_type": "markdown",
   "metadata": {},
   "source": [
    "### 在pandas中，有两种排序方法：\n",
    "- 按标签\n",
    "- 按实际值"
   ]
  },
  {
   "cell_type": "code",
   "execution_count": 18,
   "metadata": {},
   "outputs": [
    {
     "name": "stdout",
     "output_type": "stream",
     "text": [
      "       col2      col1\n",
      "1  2.526863 -0.771198\n",
      "4 -0.150883 -1.130699\n",
      "2 -0.553915  1.007639\n",
      "3  0.566399 -0.465451\n",
      "0 -1.219426  1.720222\n"
     ]
    }
   ],
   "source": [
    "import pandas as pd\n",
    "import numpy as np\n",
    "\n",
    "unsorted_df = pd.DataFrame(np.random.randn(5,2),index=[1,4,2,3,0],\n",
    "                           columns=['col2','col1'])\n",
    "print unsorted_df \n",
    "# 可以看出在unsorted_df中，标签以及元素值都是无序的"
   ]
  },
  {
   "cell_type": "markdown",
   "metadata": {},
   "source": [
    "### 2.1 按标签\n",
    "使用sort_index()方法，通过传递轴参数和排序顺序，可以对DataFrame进行排序"
   ]
  },
  {
   "cell_type": "code",
   "execution_count": 12,
   "metadata": {},
   "outputs": [
    {
     "name": "stdout",
     "output_type": "stream",
     "text": [
      "原始DataFrame: \n",
      "\n",
      "       col2      col1\n",
      "1 -1.339667  0.115424\n",
      "4 -1.037781  1.637041\n",
      "2 -1.249779 -1.191660\n",
      "3 -0.019502  0.270886\n",
      "0 -0.834618  0.086259 \n",
      "\n",
      "按行标签排序： \n",
      "\n",
      "       col2      col1\n",
      "0 -0.834618  0.086259\n",
      "1 -1.339667  0.115424\n",
      "2 -1.249779 -1.191660\n",
      "3 -0.019502  0.270886\n",
      "4 -1.037781  1.637041 \n",
      "\n",
      "行标签逆序排序： \n",
      "\n",
      "       col2      col1\n",
      "4 -1.037781  1.637041\n",
      "3 -0.019502  0.270886\n",
      "2 -1.249779 -1.191660\n",
      "1 -1.339667  0.115424\n",
      "0 -0.834618  0.086259 \n",
      "\n",
      "按列标签排序： \n",
      "\n",
      "       col1      col2\n",
      "1  0.115424 -1.339667\n",
      "4  1.637041 -1.037781\n",
      "2 -1.191660 -1.249779\n",
      "3  0.270886 -0.019502\n",
      "0  0.086259 -0.834618\n"
     ]
    }
   ],
   "source": [
    "print \"原始DataFrame:\",'\\n'\n",
    "print unsorted_df,'\\n'\n",
    "# 默认情况下axis=0，对行标签排序\n",
    "sorted_df = unsorted_df.sort_index()\n",
    "print \"按行标签排序：\",'\\n'\n",
    "print sorted_df,'\\n'\n",
    "\n",
    "# 默认情况下，索引是按升序排列的，通过设置ascending参数可以实现逆序排列\n",
    "resorted_df = unsorted_df.sort_index(ascending=False) \n",
    "print \"行标签逆序排序：\",'\\n'\n",
    "print resorted_df,'\\n'\n",
    "\n",
    "# 对列名排序\n",
    "sortedcol_df = unsorted_df.sort_index(axis=1)\n",
    "print \"按列标签排序：\",'\\n'\n",
    "print sortedcol_df"
   ]
  },
  {
   "cell_type": "markdown",
   "metadata": {},
   "source": [
    "### 2.2 按值\n",
    "与索引排序不同的是，sort_values()是按值进行排序的方法。它接受一个'by'参数，该参数将使用DataFrame的列标签来对该列元素值进行排序"
   ]
  },
  {
   "cell_type": "code",
   "execution_count": 17,
   "metadata": {},
   "outputs": [
    {
     "name": "stdout",
     "output_type": "stream",
     "text": [
      "原始DataFrame： \n",
      "   col1  col2\n",
      "0     2     1\n",
      "1     1     3\n",
      "2     1     2\n",
      "3     1     4 \n",
      "\n",
      "按col2列进行元素值的排序： \n",
      "   col1  col2\n",
      "0     2     1\n",
      "2     1     2\n",
      "1     1     3\n",
      "3     1     4 \n",
      "\n",
      "排序算法为合并排序： \n",
      "   col1  col2\n",
      "1     1     3\n",
      "2     1     2\n",
      "3     1     4\n",
      "0     2     1\n"
     ]
    }
   ],
   "source": [
    "unsorted_df = pd.DataFrame({'col1':[2,1,1,1],'col2':[1,3,2,4]})\n",
    "sorted_df = unsorted_df.sort_values(by='col2')\n",
    "\n",
    "print \"原始DataFrame：\",'\\n',unsorted_df,'\\n'\n",
    "print \"按col2列进行元素值的排序：\",'\\n',sorted_df,'\\n'\n",
    "\n",
    "# sort_values()提供多种排序算法以供选择：mergesort,heapsort,quicksort\n",
    "# mergesort是唯一的稳定算法\n",
    "sorted_df_ms = unsorted_df.sort_values(by='col1',kind='mergesort')\n",
    "print \"排序算法为合并排序：\",'\\n',sorted_df_ms"
   ]
  },
  {
   "cell_type": "code",
   "execution_count": null,
   "metadata": {
    "collapsed": true
   },
   "outputs": [],
   "source": []
  }
 ],
 "metadata": {
  "kernelspec": {
   "display_name": "Python 2",
   "language": "python",
   "name": "python2"
  },
  "language_info": {
   "codemirror_mode": {
    "name": "ipython",
    "version": 2
   },
   "file_extension": ".py",
   "mimetype": "text/x-python",
   "name": "python",
   "nbconvert_exporter": "python",
   "pygments_lexer": "ipython2",
   "version": "2.7.13"
  }
 },
 "nbformat": 4,
 "nbformat_minor": 1
}
