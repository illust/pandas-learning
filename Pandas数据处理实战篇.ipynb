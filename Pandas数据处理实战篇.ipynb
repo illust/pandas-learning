{
 "cells": [
  {
   "cell_type": "markdown",
   "metadata": {},
   "source": [
    "写了这么多期大熊猫，终于到了展示成果的时刻。这次写作的主要目的是为了通过对表格数据的实际操作，加深对Pandas这个库的了解。当然，在这个过程当中，会涉及到之前没有提到的知识点，我在每个地方都设置有超链接，方便扩展阅读。\n",
    "\n",
    "有一句这样的行话，”数据科学家是二十一世纪最性感的职业“。\n",
    "\n",
    "数据分析大致流程包括以下几个方面：\n",
    "\n",
    "1. 数据获取\n",
    "\n",
    "2. 数据存储\n",
    "\n",
    "3. 数据预处理\n",
    "\n",
    "4. 统计分析，数据建模\n",
    "\n",
    "5. 可视化\n",
    "\n",
    "Pandas库在数据分析整个大致流程中起到的是清洗数据，改善数据质量的作用。需要掌握的基本知识点如下：\n",
    "\n",
    "- 选择：\n",
    "\n",
    "- 缺失值处理：\n",
    "\n",
    "- 重复值处理：\n",
    "\n",
    "- 异常值处理：\n",
    "\n",
    "- 相关操作：\n",
    "\n",
    "- 合并：\n",
    "\n",
    "- 分组："
   ]
  },
  {
   "cell_type": "code",
   "execution_count": null,
   "metadata": {
    "collapsed": true
   },
   "outputs": [],
   "source": []
  }
 ],
 "metadata": {
  "kernelspec": {
   "display_name": "Python 2",
   "language": "python",
   "name": "python2"
  },
  "language_info": {
   "codemirror_mode": {
    "name": "ipython",
    "version": 2
   },
   "file_extension": ".py",
   "mimetype": "text/x-python",
   "name": "python",
   "nbconvert_exporter": "python",
   "pygments_lexer": "ipython2",
   "version": "2.7.13"
  }
 },
 "nbformat": 4,
 "nbformat_minor": 2
}
