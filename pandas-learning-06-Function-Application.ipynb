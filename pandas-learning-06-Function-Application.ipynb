{
 "cells": [
  {
   "cell_type": "markdown",
   "metadata": {},
   "source": [
    "# 函数应用"
   ]
  },
  {
   "cell_type": "markdown",
   "metadata": {},
   "source": [
    "#### 有三个重要功能函数需要学习：\n",
    "- 表格级函数应用：pipe()\n",
    "- 行列级函数应用：apply()\n",
    "- 元素级函数应用：applymap()"
   ]
  },
  {
   "cell_type": "markdown",
   "metadata": {},
   "source": [
    "### 1. 表格级函数应用——pipe()"
   ]
  },
  {
   "cell_type": "code",
   "execution_count": 15,
   "metadata": {
    "collapsed": false
   },
   "outputs": [
    {
     "name": "stdout",
     "output_type": "stream",
     "text": [
      "   col1  col2  col3\n",
      "0     0     1     2\n",
      "1     3     4     5\n",
      "2     6     7     8\n",
      "3     9    10    11\n",
      "4    12    13    14 \n",
      "\n",
      "   col1  col2  col3\n",
      "0     2     3     4\n",
      "1     5     6     7\n",
      "2     8     9    10\n",
      "3    11    12    13\n",
      "4    14    15    16\n"
     ]
    }
   ],
   "source": [
    "import pandas as pd\n",
    "import numpy as np\n",
    "\n",
    "def adder(ele1,ele2):\n",
    "    return ele1 + ele2\n",
    "\n",
    "df = pd.DataFrame(np.arange(0,15).reshape(5,3),columns=['col1','col2','col3'])\n",
    "print df,'\\n'\n",
    "dp = df.pipe(adder,2) # 等价于：adder(df,2)\n",
    "print dp"
   ]
  },
  {
   "cell_type": "markdown",
   "metadata": {
    "collapsed": true
   },
   "source": [
    "### 2. 行列级函数应用——apply()"
   ]
  },
  {
   "cell_type": "code",
   "execution_count": 16,
   "metadata": {
    "collapsed": false
   },
   "outputs": [
    {
     "name": "stdout",
     "output_type": "stream",
     "text": [
      "    a   b   c   d\n",
      "0   0   1   2   3\n",
      "1   4   5   6   7\n",
      "2   8   9  10  11\n",
      "3  12  13  14  15 \n",
      "\n",
      "a    6.0\n",
      "b    7.0\n",
      "c    8.0\n",
      "d    9.0\n",
      "dtype: float64 \n",
      "\n",
      "0    3\n",
      "1    3\n",
      "2    3\n",
      "3    3\n",
      "dtype: int64\n"
     ]
    }
   ],
   "source": [
    "import pandas as pd\n",
    "import numpy as np\n",
    "\n",
    "df = pd.DataFrame(np.arange(0,16).reshape(4,4),columns=list('abcd'))\n",
    "print df,'\\n'\n",
    "\n",
    "# 用参数axis指定列(取值0)或行(取值1)\n",
    "colm = df.apply(np.mean) # 对每一列取均值\n",
    "print colm,'\\n'\n",
    "\n",
    "rowm = df.apply(lambda x: x.max() - x.min(),axis=1) # 对每一行取均值\n",
    "print rowm"
   ]
  },
  {
   "cell_type": "markdown",
   "metadata": {},
   "source": [
    "### 3. 元素级函数应用——applymap()"
   ]
  },
  {
   "cell_type": "code",
   "execution_count": 11,
   "metadata": {
    "collapsed": false
   },
   "outputs": [
    {
     "name": "stdout",
     "output_type": "stream",
     "text": [
      "0       0\n",
      "1     400\n",
      "2     800\n",
      "3    1200\n",
      "Name: a, dtype: int64\n"
     ]
    }
   ],
   "source": [
    "import pandas as pd\n",
    "import numpy as np\n",
    "df = pd.DataFrame(np.arange(0,16).reshape(4,4),columns=list('abcd'))\n",
    "\n",
    "# 对某一列所有元素应用lambda函数\n",
    "dmp = df['a'].map(lambda x: x*100)\n",
    "print dmp"
   ]
  },
  {
   "cell_type": "code",
   "execution_count": 12,
   "metadata": {
    "collapsed": false
   },
   "outputs": [
    {
     "name": "stdout",
     "output_type": "stream",
     "text": [
      "      a     b     c     d\n",
      "0     0   100   200   300\n",
      "1   400   500   600   700\n",
      "2   800   900  1000  1100\n",
      "3  1200  1300  1400  1500\n"
     ]
    }
   ],
   "source": [
    "import pandas as pd\n",
    "import numpy as np\n",
    "\n",
    "# 对数据框所有元素应用lambda函数\n",
    "df = pd.DataFrame(np.arange(0,16).reshape(4,4),columns=list('abcd'))\n",
    "amp = df.applymap(lambda x:x*100)\n",
    "print amp"
   ]
  },
  {
   "cell_type": "code",
   "execution_count": null,
   "metadata": {
    "collapsed": true
   },
   "outputs": [],
   "source": []
  }
 ],
 "metadata": {
  "kernelspec": {
   "display_name": "Python 2",
   "language": "python",
   "name": "python2"
  },
  "language_info": {
   "codemirror_mode": {
    "name": "ipython",
    "version": 2
   },
   "file_extension": ".py",
   "mimetype": "text/x-python",
   "name": "python",
   "nbconvert_exporter": "python",
   "pygments_lexer": "ipython2",
   "version": "2.7.13"
  }
 },
 "nbformat": 4,
 "nbformat_minor": 0
}
