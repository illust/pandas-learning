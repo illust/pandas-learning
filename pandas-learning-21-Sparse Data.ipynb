{
 "cells": [
  {
   "cell_type": "markdown",
   "metadata": {},
   "source": [
    "# 稀疏数据\n",
    "当任何数据为特定值比如缺失值（NaN）被忽略的时候，稀疏对象被压缩。一个特殊的SpareseIndex对象跟踪数据被”稀疏“的地方，这种规则在一些实际情况中很有意义。所有标准的Pandas数据结构都可以应用to_sparse方法。  \n",
    "**稀疏对象存在的原因就是为了提高内存效率。**  "
   ]
  },
  {
   "cell_type": "code",
   "execution_count": 7,
   "metadata": {
    "scrolled": true
   },
   "outputs": [
    {
     "name": "stdout",
     "output_type": "stream",
     "text": [
      "0   -0.217220\n",
      "1   -1.275711\n",
      "2         NaN\n",
      "3         NaN\n",
      "4         NaN\n",
      "5         NaN\n",
      "6         NaN\n",
      "7         NaN\n",
      "8   -0.392886\n",
      "9    0.305925\n",
      "dtype: float64\n",
      "BlockIndex\n",
      "Block locations: array([0, 8])\n",
      "Block lengths: array([2, 2])\n"
     ]
    }
   ],
   "source": [
    "import pandas as pd\n",
    "import numpy as np\n",
    "\n",
    "ts = pd.Series(np.random.randn(10))\n",
    "ts[2:-2] = np.nan\n",
    "sts = ts.to_sparse()\n",
    "print sts"
   ]
  },
  {
   "cell_type": "markdown",
   "metadata": {},
   "source": [
    "下面的例子是将to_sparse()应用到了一个数据规模比较大的DataFrame"
   ]
  },
  {
   "cell_type": "code",
   "execution_count": 8,
   "metadata": {},
   "outputs": [
    {
     "name": "stdout",
     "output_type": "stream",
     "text": [
      "0.0002\n"
     ]
    }
   ],
   "source": [
    "df = pd.DataFrame(np.random.randn(10000,4))\n",
    "df.iloc[:9998] = np.nan\n",
    "sdf = df.to_sparse()\n",
    "\n",
    "print sdf.density"
   ]
  },
  {
   "cell_type": "markdown",
   "metadata": {},
   "source": [
    "任何稀疏对象都可以通过调用to_dense转换回标准密度形式"
   ]
  },
  {
   "cell_type": "code",
   "execution_count": 9,
   "metadata": {},
   "outputs": [
    {
     "name": "stdout",
     "output_type": "stream",
     "text": [
      "0   -0.217220\n",
      "1   -1.275711\n",
      "2         NaN\n",
      "3         NaN\n",
      "4         NaN\n",
      "5         NaN\n",
      "6         NaN\n",
      "7         NaN\n",
      "8   -0.392886\n",
      "9    0.305925\n",
      "dtype: float64\n"
     ]
    }
   ],
   "source": [
    "print sts.to_dense()"
   ]
  },
  {
   "cell_type": "markdown",
   "metadata": {},
   "source": [
    "## Sparse Dtypes"
   ]
  },
  {
   "cell_type": "code",
   "execution_count": null,
   "metadata": {
    "collapsed": true
   },
   "outputs": [],
   "source": []
  }
 ],
 "metadata": {
  "kernelspec": {
   "display_name": "Python 2",
   "language": "python",
   "name": "python2"
  },
  "language_info": {
   "codemirror_mode": {
    "name": "ipython",
    "version": 2
   },
   "file_extension": ".py",
   "mimetype": "text/x-python",
   "name": "python",
   "nbconvert_exporter": "python",
   "pygments_lexer": "ipython2",
   "version": "2.7.13"
  }
 },
 "nbformat": 4,
 "nbformat_minor": 2
}
