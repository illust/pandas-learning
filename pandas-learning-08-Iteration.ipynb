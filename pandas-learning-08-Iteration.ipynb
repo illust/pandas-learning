{
 "cells": [
  {
   "cell_type": "markdown",
   "metadata": {},
   "source": [
    "# Pandas中的迭代"
   ]
  },
  {
   "cell_type": "markdown",
   "metadata": {},
   "source": [
    "### 1. 迭代DataFrame"
   ]
  },
  {
   "cell_type": "code",
   "execution_count": 1,
   "metadata": {},
   "outputs": [
    {
     "name": "stdout",
     "output_type": "stream",
     "text": [
      "A\n",
      "C\n",
      "D\n",
      "x\n",
      "y\n"
     ]
    }
   ],
   "source": [
    "import pandas as pd\n",
    "import numpy as np\n",
    "\n",
    "N = 20\n",
    "df = pd.DataFrame({\n",
    "        'A':pd.date_range(start='2016-01-01',periods=N,freq='D'),\n",
    "        'x':np.linspace(0,stop=N-1,num=N),\n",
    "        'y':np.random.rand(N),\n",
    "        'C':np.random.choice(['low','Medium','High'],N).tolist(),\n",
    "        'D':np.random.normal(100,10,size=(N)).tolist()\n",
    "    })\n",
    "\n",
    "for col in df:\n",
    "    print col"
   ]
  },
  {
   "cell_type": "markdown",
   "metadata": {},
   "source": [
    "## 迭代DataFrame中的所有行，我们可以使用：\n",
    "- iteritems() -- 迭代 (key,value)对\n",
    "- iterrows() -- 迭代(index，series)对的行\n",
    "- itertuples() -- 迭代作为namedtuples的行"
   ]
  },
  {
   "cell_type": "markdown",
   "metadata": {},
   "source": [
    "### 2. iteritems()\n",
    "将每一列的名称作为键，列值作为Series对象进行迭代"
   ]
  },
  {
   "cell_type": "code",
   "execution_count": 1,
   "metadata": {},
   "outputs": [
    {
     "name": "stdout",
     "output_type": "stream",
     "text": [
      "   col1  col2  col3\n",
      "0     0     1     2\n",
      "1     3     4     5\n",
      "2     6     7     8\n",
      "3     9    10    11 \n",
      "\n",
      "col1 \n",
      "0    0\n",
      "1    3\n",
      "2    6\n",
      "3    9\n",
      "Name: col1, dtype: int32 True \n",
      "\n",
      "col2 \n",
      "0     1\n",
      "1     4\n",
      "2     7\n",
      "3    10\n",
      "Name: col2, dtype: int32 True \n",
      "\n",
      "col3 \n",
      "0     2\n",
      "1     5\n",
      "2     8\n",
      "3    11\n",
      "Name: col3, dtype: int32 True \n",
      "\n"
     ]
    }
   ],
   "source": [
    "import pandas as pd\n",
    "import numpy as np\n",
    "\n",
    "df = pd.DataFrame(np.arange(0,12).reshape(4,3),columns=['col1','col2','col3'])\n",
    "print df,'\\n'\n",
    "for key,value in df.iteritems():\n",
    "    print key,'\\n',value,isinstance(value,pd.Series),'\\n'"
   ]
  },
  {
   "cell_type": "markdown",
   "metadata": {},
   "source": [
    "### 3. iterrows()\n",
    "iterrows()返回产生每个索引值的迭代器以及包含每行数据的序列"
   ]
  },
  {
   "cell_type": "code",
   "execution_count": 2,
   "metadata": {},
   "outputs": [
    {
     "name": "stdout",
     "output_type": "stream",
     "text": [
      "   col1  col2  col3\n",
      "0     0     1     2\n",
      "1     3     4     5\n",
      "2     6     7     8\n",
      "3     9    10    11 \n",
      "\n",
      "0 col1    0\n",
      "col2    1\n",
      "col3    2\n",
      "Name: 0, dtype: int32 \n",
      "\n",
      "1 col1    3\n",
      "col2    4\n",
      "col3    5\n",
      "Name: 1, dtype: int32 \n",
      "\n",
      "2 col1    6\n",
      "col2    7\n",
      "col3    8\n",
      "Name: 2, dtype: int32 \n",
      "\n",
      "3 col1     9\n",
      "col2    10\n",
      "col3    11\n",
      "Name: 3, dtype: int32 \n",
      "\n"
     ]
    }
   ],
   "source": [
    "import pandas as pd\n",
    "import numpy as np\n",
    "\n",
    "df = pd.DataFrame(np.arange(0,12).reshape(4,3),columns=['col1','col2','col3'])\n",
    "print df,'\\n'\n",
    "for row_index,row in df.iterrows():\n",
    "    print row_index,row,'\\n'"
   ]
  },
  {
   "cell_type": "markdown",
   "metadata": {},
   "source": [
    "#### **注意:** 因为iterrows()遍历行，所以不会保留行的数据类型。0,1,2是行索引，col1，col2，col3是列索引"
   ]
  },
  {
   "cell_type": "markdown",
   "metadata": {},
   "source": [
    "### 4. itertuples()\n",
    "itertuples()方法将返回一个迭代器，产生DataFrame中每一行的命名元组。元组的第一个元素将是行对应的索引值，而其余的值是行值"
   ]
  },
  {
   "cell_type": "code",
   "execution_count": 3,
   "metadata": {},
   "outputs": [
    {
     "name": "stdout",
     "output_type": "stream",
     "text": [
      "   col1  col2  col3\n",
      "0     0     1     2\n",
      "1     3     4     5\n",
      "2     6     7     8\n",
      "3     9    10    11 \n",
      "\n",
      "Pandas(Index=0, col1=0, col2=1, col3=2) True\n",
      "Pandas(Index=1, col1=3, col2=4, col3=5) True\n",
      "Pandas(Index=2, col1=6, col2=7, col3=8) True\n",
      "Pandas(Index=3, col1=9, col2=10, col3=11) True\n"
     ]
    }
   ],
   "source": [
    "import pandas as pd\n",
    "import numpy as np\n",
    "\n",
    "df = pd.DataFrame(np.arange(0,12).reshape(4,3),columns=['col1','col2','col3'])\n",
    "print df,'\\n'\n",
    "for row in df.itertuples():\n",
    "    print row,isinstance(row,tuple)"
   ]
  },
  {
   "cell_type": "markdown",
   "metadata": {
    "collapsed": true
   },
   "source": [
    "#### 注意： 迭代的意义是为了便于阅读，不要尝试迭代过程中修改任何对象，因为迭代器返回的只是原始对象的拷贝"
   ]
  },
  {
   "cell_type": "code",
   "execution_count": null,
   "metadata": {
    "collapsed": true
   },
   "outputs": [],
   "source": []
  }
 ],
 "metadata": {
  "kernelspec": {
   "display_name": "Python 2",
   "language": "python",
   "name": "python2"
  },
  "language_info": {
   "codemirror_mode": {
    "name": "ipython",
    "version": 2
   },
   "file_extension": ".py",
   "mimetype": "text/x-python",
   "name": "python",
   "nbconvert_exporter": "python",
   "pygments_lexer": "ipython2",
   "version": "2.7.13"
  }
 },
 "nbformat": 4,
 "nbformat_minor": 1
}
